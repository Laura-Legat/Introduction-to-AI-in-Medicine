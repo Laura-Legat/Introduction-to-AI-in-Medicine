{
 "cells": [
  {
   "cell_type": "markdown",
   "id": "perceived-donor",
   "metadata": {
    "id": "perceived-donor"
   },
   "source": [
    "# Introduction to PyTorch\n",
    "\n",
    "This notebook was adapted from [Stanford's CS224N Pytorch](https://github.com/SunnyHaze/Stanford-CS224N-NLP/blob/main/CS224N%20PyTorch%20Tutorial.ipynb) Tutorial by Dilara Soylu as well as the official [PyTorch 60 Minute Blitz Tutorial](https://pytorch.org/tutorials/beginner/deep_learning_60min_blitz.html) demo for PyTorch.\n",
    "\n",
    "We will have a basic introduction to `PyTorch` and Tensors and how to use them to create, train and evaluate Neural Networks. For that, we will also get acquainted with `torch.autograd` and the concept of a computational graph. In the end, we will build, train, and evaluate our first classifier by classifying two moons!"
   ]
  },
  {
   "cell_type": "markdown",
   "id": "static-african",
   "metadata": {
    "id": "static-african"
   },
   "source": [
    "## Introduction\n",
    "[PyTorch](https://pytorch.org/) is a machine learning framework that is used in both academia and industry for various applications. PyTorch started of as a more flexible alternative to [TensorFlow](https://www.tensorflow.org/), which is another popular machine learning framework. At the time of its release, `PyTorch` appealed to the users due to its user friendly nature: as opposed to defining static graphs before performing an operation as in `TensorFlow`, `PyTorch` allowed users to define their operations as they go, which is also the approached integrated by `TensorFlow` in its following releases. Although `TensorFlow` is more widely preferred in the industry, `PyTorch` is often times the preferred machine learning framework for researchers.\n",
    "\n",
    "Now that we have learned enough about the background of `PyTorch`, let's start by importing it into our notebook."
   ]
  },
  {
   "cell_type": "code",
   "execution_count": 49,
   "id": "hindu-wales",
   "metadata": {
    "executionInfo": {
     "elapsed": 32,
     "status": "ok",
     "timestamp": 1744931795638,
     "user": {
      "displayName": "Laura Legat",
      "userId": "08447403520972321571"
     },
     "user_tz": -120
    },
    "id": "hindu-wales"
   },
   "outputs": [],
   "source": [
    "import torch\n",
    "import torch.nn as nn # contains functionality for building neural networks\n",
    "import numpy as np"
   ]
  },
  {
   "cell_type": "markdown",
   "id": "B6S-n3L-_Ovm",
   "metadata": {
    "id": "B6S-n3L-_Ovm"
   },
   "source": [
    "Like in the last notebook, we can use `__version__` to check the `PyTorch` version that Colab is running on."
   ]
  },
  {
   "cell_type": "code",
   "execution_count": 50,
   "id": "g1iRWzuA_MGt",
   "metadata": {
    "colab": {
     "base_uri": "https://localhost:8080/",
     "height": 36
    },
    "executionInfo": {
     "elapsed": 6,
     "status": "ok",
     "timestamp": 1744931795646,
     "user": {
      "displayName": "Laura Legat",
      "userId": "08447403520972321571"
     },
     "user_tz": -120
    },
    "id": "g1iRWzuA_MGt",
    "outputId": "fc29d9a4-a5ed-475c-c421-54127f22a0e0"
   },
   "outputs": [
    {
     "data": {
      "text/plain": [
       "'2.5.1'"
      ]
     },
     "execution_count": 50,
     "metadata": {},
     "output_type": "execute_result"
    }
   ],
   "source": [
    "torch.__version__"
   ]
  },
  {
   "cell_type": "markdown",
   "id": "adjacent-hearing",
   "metadata": {
    "id": "adjacent-hearing"
   },
   "source": [
    "PyTorch is open source and the documentation can he accessed [here](https://pytorch.org/docs/stable/index.html). With it imported, we can get started!"
   ]
  },
  {
   "cell_type": "markdown",
   "id": "5Bsa9mtl_f_v",
   "metadata": {
    "id": "5Bsa9mtl_f_v"
   },
   "source": [
    "## Tensors\n",
    "\n",
    "Tensors are the most basic building blocks in `PyTorch`. Tensors are similar to matrices, but the have extra properties and they can represent higher dimensions. For example, an square RGB image with 256 pixels in both sides can be represented by a 3x256x256 tensor, where the first 3 dimensions represent the color channels RGB. In `PyTorch`, we often use tensors to encode the inputs and outputs of a neural network model, as well as the model's parameters, to a numeric format which can be understood by the architecture. Tensors can run on GPU's to accelerate e.g. network training."
   ]
  },
  {
   "cell_type": "markdown",
   "id": "RJTV9cfdAAah",
   "metadata": {
    "id": "RJTV9cfdAAah"
   },
   "source": [
    "### Tensor Initialization"
   ]
  },
  {
   "cell_type": "markdown",
   "id": "r-cHMa9jAEDG",
   "metadata": {
    "id": "r-cHMa9jAEDG"
   },
   "source": [
    "There are several ways to instantiate tensors:\n",
    "\n",
    "**Directly from data**\n",
    "\n",
    "Tensors can be created directly from data. The data type is\n",
    "automatically inferred."
   ]
  },
  {
   "cell_type": "code",
   "execution_count": 51,
   "id": "vZjm8c5YAgVu",
   "metadata": {
    "colab": {
     "base_uri": "https://localhost:8080/"
    },
    "executionInfo": {
     "elapsed": 16,
     "status": "ok",
     "timestamp": 1744931795661,
     "user": {
      "displayName": "Laura Legat",
      "userId": "08447403520972321571"
     },
     "user_tz": -120
    },
    "id": "vZjm8c5YAgVu",
    "outputId": "fb2b97c3-9b62-4eac-bbd7-609c114a148e"
   },
   "outputs": [
    {
     "data": {
      "text/plain": [
       "tensor([[1, 2],\n",
       "        [3, 4]])"
      ]
     },
     "execution_count": 51,
     "metadata": {},
     "output_type": "execute_result"
    }
   ],
   "source": [
    "data = [[1, 2], [3, 4]]\n",
    "x_data = torch.tensor(data)\n",
    "x_data"
   ]
  },
  {
   "cell_type": "code",
   "execution_count": 52,
   "id": "W1IRvL6CAk0P",
   "metadata": {
    "colab": {
     "base_uri": "https://localhost:8080/"
    },
    "executionInfo": {
     "elapsed": 16,
     "status": "ok",
     "timestamp": 1744931795675,
     "user": {
      "displayName": "Laura Legat",
      "userId": "08447403520972321571"
     },
     "user_tz": -120
    },
    "id": "W1IRvL6CAk0P",
    "outputId": "5eeab564-f74e-47a4-e78b-557e44ee2c5e"
   },
   "outputs": [
    {
     "name": "stdout",
     "output_type": "stream",
     "text": [
      "<class 'torch.Tensor'>\n",
      "torch.int64\n"
     ]
    }
   ],
   "source": [
    "print(type(x_data)) # prints the type of the data structure, i.e. tensor\n",
    "print(x_data.dtype) # print type of elements in the tensor"
   ]
  },
  {
   "cell_type": "markdown",
   "id": "eAZf8_8wCCOn",
   "metadata": {
    "id": "eAZf8_8wCCOn"
   },
   "source": [
    "We can also speficy the data type (`dtype`) directly:"
   ]
  },
  {
   "cell_type": "code",
   "execution_count": 53,
   "id": "LseoNwzFCIMo",
   "metadata": {
    "colab": {
     "base_uri": "https://localhost:8080/"
    },
    "executionInfo": {
     "elapsed": 18,
     "status": "ok",
     "timestamp": 1744931795694,
     "user": {
      "displayName": "Laura Legat",
      "userId": "08447403520972321571"
     },
     "user_tz": -120
    },
    "id": "LseoNwzFCIMo",
    "outputId": "f3a2aa03-6073-4c96-8436-28fd948f3727"
   },
   "outputs": [
    {
     "data": {
      "text/plain": [
       "torch.float32"
      ]
     },
     "execution_count": 53,
     "metadata": {},
     "output_type": "execute_result"
    }
   ],
   "source": [
    "# We are using the dtype to create a float tensor\n",
    "x_float = torch.tensor(data, dtype=torch.float)\n",
    "x_float.dtype"
   ]
  },
  {
   "cell_type": "markdown",
   "id": "fQLpeHe9BPtn",
   "metadata": {
    "id": "fQLpeHe9BPtn"
   },
   "source": [
    "**From a Python List**\n",
    "\n",
    "We can initalize a tensor from a Python list, which could include sublists. The dimensions and the data types will be automatically inferred by PyTorch when we use torch.tensor()."
   ]
  },
  {
   "cell_type": "code",
   "execution_count": 54,
   "id": "or-i0liiBYjP",
   "metadata": {
    "colab": {
     "base_uri": "https://localhost:8080/"
    },
    "executionInfo": {
     "elapsed": 6,
     "status": "ok",
     "timestamp": 1744931795696,
     "user": {
      "displayName": "Laura Legat",
      "userId": "08447403520972321571"
     },
     "user_tz": -120
    },
    "id": "or-i0liiBYjP",
    "outputId": "b54569eb-ed4d-4816-ad05-a7dac0cc4820"
   },
   "outputs": [
    {
     "data": {
      "text/plain": [
       "tensor([[0, 1],\n",
       "        [2, 3],\n",
       "        [4, 5]])"
      ]
     },
     "execution_count": 54,
     "metadata": {},
     "output_type": "execute_result"
    }
   ],
   "source": [
    "# Initialize a tensor from a Python List\n",
    "data = [\n",
    "        [0, 1],\n",
    "        [2, 3],\n",
    "        [4, 5]\n",
    "       ]\n",
    "x_python = torch.tensor(data)\n",
    "\n",
    "# Print the tensor\n",
    "x_python"
   ]
  },
  {
   "cell_type": "markdown",
   "id": "t9GTBZTUAoiz",
   "metadata": {
    "id": "t9GTBZTUAoiz"
   },
   "source": [
    "**From a NumPy array**\n",
    "\n",
    "Tensors can be created from NumPy arrays (and vice versa)."
   ]
  },
  {
   "cell_type": "code",
   "execution_count": 55,
   "id": "2nb-2l9CAuIH",
   "metadata": {
    "colab": {
     "base_uri": "https://localhost:8080/"
    },
    "executionInfo": {
     "elapsed": 7,
     "status": "ok",
     "timestamp": 1744931795704,
     "user": {
      "displayName": "Laura Legat",
      "userId": "08447403520972321571"
     },
     "user_tz": -120
    },
    "id": "2nb-2l9CAuIH",
    "outputId": "4f504c31-3ae9-4bd6-8ea1-dfd8896cbadb"
   },
   "outputs": [
    {
     "data": {
      "text/plain": [
       "tensor([[0, 1],\n",
       "        [2, 3],\n",
       "        [4, 5]])"
      ]
     },
     "execution_count": 55,
     "metadata": {},
     "output_type": "execute_result"
    }
   ],
   "source": [
    "np_array = np.array(data)\n",
    "x_np = torch.from_numpy(np_array)\n",
    "x_np"
   ]
  },
  {
   "cell_type": "markdown",
   "id": "ZXF_6JMTA39e",
   "metadata": {
    "id": "ZXF_6JMTA39e"
   },
   "source": [
    "**From another tensor:**\n",
    "\n",
    "The new tensor retains the properties (shape, datatype) of the argument\n",
    "tensor, unless explicitly overridden."
   ]
  },
  {
   "cell_type": "code",
   "execution_count": 56,
   "id": "LzdOoITTA6cO",
   "metadata": {
    "colab": {
     "base_uri": "https://localhost:8080/"
    },
    "executionInfo": {
     "elapsed": 7,
     "status": "ok",
     "timestamp": 1744931795712,
     "user": {
      "displayName": "Laura Legat",
      "userId": "08447403520972321571"
     },
     "user_tz": -120
    },
    "id": "LzdOoITTA6cO",
    "outputId": "b7fc9e3f-9ee0-4ed2-f439-2400f0f9a42e"
   },
   "outputs": [
    {
     "name": "stdout",
     "output_type": "stream",
     "text": [
      "Ones Tensor: \n",
      " tensor([[1, 1],\n",
      "        [1, 1]]) \n",
      "\n",
      "Random Tensor: \n",
      " tensor([[0.9772, 0.1390],\n",
      "        [0.7704, 0.1905]]) \n",
      "\n"
     ]
    }
   ],
   "source": [
    "x_ones = torch.ones_like(x_data) # retains the properties of x_data\n",
    "print(f\"Ones Tensor: \\n {x_ones} \\n\")\n",
    "\n",
    "x_rand = torch.rand_like(x_data, dtype=torch.float) # overrides the datatype of x_data\n",
    "print(f\"Random Tensor: \\n {x_rand} \\n\")"
   ]
  },
  {
   "cell_type": "markdown",
   "id": "uuMlNkLGCxWX",
   "metadata": {
    "id": "uuMlNkLGCxWX"
   },
   "source": [
    "**With random or constant values:**\n",
    "\n",
    "Similar to what we have seen with NumPy, we can pre-fill tensors with static values like 1, or random numbers, just such that we have the shape as a placeholder. For this, we define `shape` as a tuple of tensor dimensions. In the functions below, it\n",
    "determines the dimensionality of the output tensor."
   ]
  },
  {
   "cell_type": "code",
   "execution_count": 57,
   "id": "tzjbYjrwCyMw",
   "metadata": {
    "colab": {
     "base_uri": "https://localhost:8080/"
    },
    "executionInfo": {
     "elapsed": 15,
     "status": "ok",
     "timestamp": 1744931795726,
     "user": {
      "displayName": "Laura Legat",
      "userId": "08447403520972321571"
     },
     "user_tz": -120
    },
    "id": "tzjbYjrwCyMw",
    "outputId": "ceeadaf1-1a18-4f31-b5dc-7da8b8dd09bc"
   },
   "outputs": [
    {
     "name": "stdout",
     "output_type": "stream",
     "text": [
      "Random Tensor: \n",
      " tensor([[0.7983, 0.8608, 0.8869],\n",
      "        [0.8600, 0.8128, 0.5097]]) \n",
      "\n",
      "Ones Tensor: \n",
      " tensor([[1., 1., 1.],\n",
      "        [1., 1., 1.]]) \n",
      "\n",
      "Zeros Tensor: \n",
      " tensor([[0., 0., 0.],\n",
      "        [0., 0., 0.]])\n",
      "torch.Size([2, 3])\n",
      "torch.Size([2, 3])\n"
     ]
    }
   ],
   "source": [
    "shape = (2, 3,) # 2x3x1 = 2x3 tensor\n",
    "rand_tensor = torch.rand(shape)\n",
    "ones_tensor = torch.ones(shape)\n",
    "zeros_tensor = torch.zeros(shape)\n",
    "\n",
    "print(f\"Random Tensor: \\n {rand_tensor} \\n\")\n",
    "print(f\"Ones Tensor: \\n {ones_tensor} \\n\")\n",
    "print(f\"Zeros Tensor: \\n {zeros_tensor}\")\n",
    "\n",
    "# to read the dimensions of a tensor, use shape or size()\n",
    "print(zeros_tensor.shape)\n",
    "print(zeros_tensor.size())"
   ]
  },
  {
   "cell_type": "markdown",
   "id": "xlOE3n1fDvG_",
   "metadata": {
    "id": "xlOE3n1fDvG_"
   },
   "source": [
    "### Tensor Attributes\n",
    "\n",
    "Tensors have several attributes which are important to know and adjust to your needs. Some of these properties are the aforementioned `shape` (aka dimensions), `dtype` (data type of the elements in the tensor) and the `device` they are stored on. The device could for instance be a CPU or a GPU. During training of neural networks, we might want to push our tensors onto the GPU device for accelerated training. Let's look at these tensor attributes below:"
   ]
  },
  {
   "cell_type": "code",
   "execution_count": 58,
   "id": "cmN7lbeDELzY",
   "metadata": {
    "colab": {
     "base_uri": "https://localhost:8080/"
    },
    "executionInfo": {
     "elapsed": 56,
     "status": "ok",
     "timestamp": 1744931795782,
     "user": {
      "displayName": "Laura Legat",
      "userId": "08447403520972321571"
     },
     "user_tz": -120
    },
    "id": "cmN7lbeDELzY",
    "outputId": "64bd60f5-829f-4ffb-fcdb-bd5fc0b6a387"
   },
   "outputs": [
    {
     "name": "stdout",
     "output_type": "stream",
     "text": [
      "Shape of tensor: torch.Size([3, 4])\n",
      "Datatype of tensor: torch.float32\n",
      "Device tensor is stored on: cpu\n"
     ]
    }
   ],
   "source": [
    "tensor = torch.rand(3, 4)\n",
    "\n",
    "print(f\"Shape of tensor: {tensor.shape}\")\n",
    "print(f\"Datatype of tensor: {tensor.dtype}\")\n",
    "print(f\"Device tensor is stored on: {tensor.device}\")"
   ]
  },
  {
   "cell_type": "markdown",
   "id": "kyG-yS2yFR0v",
   "metadata": {
    "id": "kyG-yS2yFR0v"
   },
   "source": [
    "We can also index separate dimensions of our tensor. Here, we have a 2D tensor with 3 rows X 4 columns."
   ]
  },
  {
   "cell_type": "code",
   "execution_count": 59,
   "id": "och1ze6IFrd6",
   "metadata": {
    "colab": {
     "base_uri": "https://localhost:8080/"
    },
    "executionInfo": {
     "elapsed": 10,
     "status": "ok",
     "timestamp": 1744931795793,
     "user": {
      "displayName": "Laura Legat",
      "userId": "08447403520972321571"
     },
     "user_tz": -120
    },
    "id": "och1ze6IFrd6",
    "outputId": "0350575c-fa63-43a1-951a-93930b766a8b"
   },
   "outputs": [
    {
     "name": "stdout",
     "output_type": "stream",
     "text": [
      "3\n",
      "3\n"
     ]
    }
   ],
   "source": [
    "print(tensor.shape[0]) # access the row dimension (is only considered the row dimension in 2D)\n",
    "print(tensor.size(0)) # another way to access the row dimension"
   ]
  },
  {
   "cell_type": "markdown",
   "id": "MZWcWpR0GB9f",
   "metadata": {
    "id": "MZWcWpR0GB9f"
   },
   "source": [
    "### Tensor Operations\n",
    "\n",
    "Over 100 tensor operations, including transposing, indexing, slicing,\n",
    "mathematical operations, linear algebra, random sampling, and more are\n",
    "comprehensively described\n",
    "[here](https://pytorch.org/docs/stable/torch.html), where each of them can be run on the CPU and on the GPU.\n",
    "\n",
    "**Standard numpy-like indexing and slicing:**\n",
    "\n",
    "We index the rows of a 2D tensor by writing the row index into the parentheses. For indexing multiple dimensions, we use `:` and separate them by a comma."
   ]
  },
  {
   "cell_type": "code",
   "execution_count": 60,
   "id": "sICMyTJTGDvg",
   "metadata": {
    "colab": {
     "base_uri": "https://localhost:8080/"
    },
    "executionInfo": {
     "elapsed": 7,
     "status": "ok",
     "timestamp": 1744931795802,
     "user": {
      "displayName": "Laura Legat",
      "userId": "08447403520972321571"
     },
     "user_tz": -120
    },
    "id": "sICMyTJTGDvg",
    "outputId": "771f0a4c-f945-4249-e117-b75722ab376e"
   },
   "outputs": [
    {
     "name": "stdout",
     "output_type": "stream",
     "text": [
      "tensor([[1., 0., 1., 1.],\n",
      "        [1., 0., 1., 1.],\n",
      "        [1., 0., 1., 1.],\n",
      "        [1., 0., 1., 1.]])\n"
     ]
    }
   ],
   "source": [
    "tensor = torch.ones(4, 4)\n",
    "tensor[:,1] = 0 # set second col to 0 (remember 0-indexing in Python)\n",
    "print(tensor)"
   ]
  },
  {
   "cell_type": "code",
   "execution_count": 61,
   "id": "C0_wcOlKKMLA",
   "metadata": {
    "colab": {
     "base_uri": "https://localhost:8080/"
    },
    "executionInfo": {
     "elapsed": 7,
     "status": "ok",
     "timestamp": 1744931795810,
     "user": {
      "displayName": "Laura Legat",
      "userId": "08447403520972321571"
     },
     "user_tz": -120
    },
    "id": "C0_wcOlKKMLA",
    "outputId": "4d965d99-3173-4ccf-9fbc-1a45a70667c1"
   },
   "outputs": [
    {
     "data": {
      "text/plain": [
       "tensor([1., 0., 1., 1.])"
      ]
     },
     "execution_count": 61,
     "metadata": {},
     "output_type": "execute_result"
    }
   ],
   "source": [
    "tensor[0] # access 0th element of the tensor, which for a 2D tensor is the first row"
   ]
  },
  {
   "cell_type": "markdown",
   "id": "HXdRxN6OLAD4",
   "metadata": {
    "id": "HXdRxN6OLAD4"
   },
   "source": [
    "The indexing operations can become more sophisticated:"
   ]
  },
  {
   "cell_type": "code",
   "execution_count": 62,
   "id": "gtI9dcG5K0hZ",
   "metadata": {
    "colab": {
     "base_uri": "https://localhost:8080/"
    },
    "executionInfo": {
     "elapsed": 5,
     "status": "ok",
     "timestamp": 1744931795816,
     "user": {
      "displayName": "Laura Legat",
      "userId": "08447403520972321571"
     },
     "user_tz": -120
    },
    "id": "gtI9dcG5K0hZ",
    "outputId": "33bb21a5-27ef-4fe5-b940-de5384bff7ba"
   },
   "outputs": [
    {
     "data": {
      "text/plain": [
       "tensor([1., 5., 9.])"
      ]
     },
     "execution_count": 62,
     "metadata": {},
     "output_type": "execute_result"
    }
   ],
   "source": [
    "# get the top left element (the 0's in our indexing example) of each element (colon : runs through all elements) in our tensor\n",
    "x = torch.Tensor([\n",
    "                  [[1, 2], [3, 4]],\n",
    "                  [[5, 6], [7, 8]],\n",
    "                  [[9, 10], [11, 12]]\n",
    "                 ])\n",
    "x[:, 0, 0]"
   ]
  },
  {
   "cell_type": "markdown",
   "id": "5QUOVpNZIsMw",
   "metadata": {
    "id": "5QUOVpNZIsMw"
   },
   "source": [
    "**Count and access tensor elements**\n",
    "\n",
    "Use `numel()` to count the elements in a tensor."
   ]
  },
  {
   "cell_type": "code",
   "execution_count": 63,
   "id": "qaen7tk2I40y",
   "metadata": {
    "colab": {
     "base_uri": "https://localhost:8080/"
    },
    "executionInfo": {
     "elapsed": 7,
     "status": "ok",
     "timestamp": 1744931795825,
     "user": {
      "displayName": "Laura Legat",
      "userId": "08447403520972321571"
     },
     "user_tz": -120
    },
    "id": "qaen7tk2I40y",
    "outputId": "e429b37a-5cdf-44f6-d0a5-2847e89256c7"
   },
   "outputs": [
    {
     "data": {
      "text/plain": [
       "2"
      ]
     },
     "execution_count": 63,
     "metadata": {},
     "output_type": "execute_result"
    }
   ],
   "source": [
    "i = torch.tensor([1, 2])\n",
    "i.numel()"
   ]
  },
  {
   "cell_type": "markdown",
   "id": "OsXz-kbfLaR4",
   "metadata": {
    "id": "OsXz-kbfLaR4"
   },
   "source": [
    "Use `item()` to access a tensor's underlying elements. This works on flattened or single dimensions of a tensor:"
   ]
  },
  {
   "cell_type": "code",
   "execution_count": 64,
   "id": "srqmKctwLe8k",
   "metadata": {
    "colab": {
     "base_uri": "https://localhost:8080/"
    },
    "executionInfo": {
     "elapsed": 5,
     "status": "ok",
     "timestamp": 1744931795831,
     "user": {
      "displayName": "Laura Legat",
      "userId": "08447403520972321571"
     },
     "user_tz": -120
    },
    "id": "srqmKctwLe8k",
    "outputId": "91c35252-f015-4e38-ae47-058d96c8394d"
   },
   "outputs": [
    {
     "data": {
      "text/plain": [
       "1"
      ]
     },
     "execution_count": 64,
     "metadata": {},
     "output_type": "execute_result"
    }
   ],
   "source": [
    "i[0].item()"
   ]
  },
  {
   "cell_type": "markdown",
   "id": "C4wrKYehGia_",
   "metadata": {
    "id": "C4wrKYehGia_"
   },
   "source": [
    "**Joining tensors**\n",
    "\n",
    "You can use `torch.cat` to concatenate a sequence of\n",
    "tensors along a given dimension. See also\n",
    "[torch.stack](https://pytorch.org/docs/stable/generated/torch.stack.html),\n",
    "another tensor joining op that is subtly different from `torch.cat`."
   ]
  },
  {
   "cell_type": "code",
   "execution_count": 65,
   "id": "pnfMYO1aGkt4",
   "metadata": {
    "colab": {
     "base_uri": "https://localhost:8080/"
    },
    "executionInfo": {
     "elapsed": 38,
     "status": "ok",
     "timestamp": 1744931795870,
     "user": {
      "displayName": "Laura Legat",
      "userId": "08447403520972321571"
     },
     "user_tz": -120
    },
    "id": "pnfMYO1aGkt4",
    "outputId": "8427600d-7092-4e2f-87b4-7ca76710d0cb"
   },
   "outputs": [
    {
     "name": "stdout",
     "output_type": "stream",
     "text": [
      "tensor([[1., 0., 1., 1., 1., 0., 1., 1., 1., 0., 1., 1.],\n",
      "        [1., 0., 1., 1., 1., 0., 1., 1., 1., 0., 1., 1.],\n",
      "        [1., 0., 1., 1., 1., 0., 1., 1., 1., 0., 1., 1.],\n",
      "        [1., 0., 1., 1., 1., 0., 1., 1., 1., 0., 1., 1.]])\n"
     ]
    }
   ],
   "source": [
    "t1 = torch.cat([tensor, tensor, tensor], dim=1)\n",
    "print(t1)"
   ]
  },
  {
   "cell_type": "markdown",
   "id": "7GZ1XkS9Gp2A",
   "metadata": {
    "id": "7GZ1XkS9Gp2A"
   },
   "source": [
    "**Reshaping tensors**\n",
    "\n",
    "We can change the shape of a tensor with `view()` by simply specifying our desired shape:"
   ]
  },
  {
   "cell_type": "code",
   "execution_count": 66,
   "id": "OJx9CCEAGxWx",
   "metadata": {
    "colab": {
     "base_uri": "https://localhost:8080/"
    },
    "executionInfo": {
     "elapsed": 6,
     "status": "ok",
     "timestamp": 1744931795877,
     "user": {
      "displayName": "Laura Legat",
      "userId": "08447403520972321571"
     },
     "user_tz": -120
    },
    "id": "OJx9CCEAGxWx",
    "outputId": "7de18687-2cc8-435f-c952-36f595944890"
   },
   "outputs": [
    {
     "name": "stdout",
     "output_type": "stream",
     "text": [
      "tensor([[1., 2.],\n",
      "        [3., 4.],\n",
      "        [5., 6.]])\n",
      "tensor([[1., 2., 3.],\n",
      "        [4., 5., 6.]])\n"
     ]
    }
   ],
   "source": [
    "# x_view shares the same memory as x, so changing one changes the other\n",
    "x = torch.Tensor([[1, 2], [3, 4], [5, 6]])\n",
    "print(x) # before reshaping, shape = (3,2)\n",
    "x_view = x.view(2, 3)\n",
    "print(x_view) # after reshaping, shape = (2,3)"
   ]
  },
  {
   "cell_type": "markdown",
   "id": "S7En8KcYHL9x",
   "metadata": {
    "id": "S7En8KcYHL9x"
   },
   "source": [
    "We can also just specify some of the dimensions and leave it up to Pytorch to infer the rest of them. Say we know that we want to have 3 rows, and we don't care how the rest of the tensor is structured, then we specify all dimensions we don't care about with `-1`:"
   ]
  },
  {
   "cell_type": "code",
   "execution_count": 67,
   "id": "onsy24F8HVjx",
   "metadata": {
    "colab": {
     "base_uri": "https://localhost:8080/"
    },
    "executionInfo": {
     "elapsed": 36,
     "status": "ok",
     "timestamp": 1744931795914,
     "user": {
      "displayName": "Laura Legat",
      "userId": "08447403520972321571"
     },
     "user_tz": -120
    },
    "id": "onsy24F8HVjx",
    "outputId": "c45e65bc-75a5-49b0-b466-bee7326aca6c"
   },
   "outputs": [
    {
     "data": {
      "text/plain": [
       "tensor([[1., 2.],\n",
       "        [3., 4.],\n",
       "        [5., 6.]])"
      ]
     },
     "execution_count": 67,
     "metadata": {},
     "output_type": "execute_result"
    }
   ],
   "source": [
    "x_view = x.view(3, -1)\n",
    "x_view"
   ]
  },
  {
   "cell_type": "markdown",
   "id": "_o844I0WIG5m",
   "metadata": {
    "id": "_o844I0WIG5m"
   },
   "source": [
    "We can remove singular dimensions with the `squeeze()` function."
   ]
  },
  {
   "cell_type": "code",
   "execution_count": 68,
   "id": "YjxHqF30H5-H",
   "metadata": {
    "colab": {
     "base_uri": "https://localhost:8080/"
    },
    "executionInfo": {
     "elapsed": 11,
     "status": "ok",
     "timestamp": 1744931795926,
     "user": {
      "displayName": "Laura Legat",
      "userId": "08447403520972321571"
     },
     "user_tz": -120
    },
    "id": "YjxHqF30H5-H",
    "outputId": "0ffc7f64-b431-401d-8795-6509c8f50ce5"
   },
   "outputs": [
    {
     "data": {
      "text/plain": [
       "tensor([[[0, 1]],\n",
       "\n",
       "        [[2, 3]],\n",
       "\n",
       "        [[4, 5]],\n",
       "\n",
       "        [[6, 7]],\n",
       "\n",
       "        [[8, 9]]])"
      ]
     },
     "execution_count": 68,
     "metadata": {},
     "output_type": "execute_result"
    }
   ],
   "source": [
    "x = torch.arange(10).reshape(5, 1, 2) # arange creates a list of 0-9 numbers, reshape shapes them into a tensor of dims (5,2)\n",
    "x"
   ]
  },
  {
   "cell_type": "code",
   "execution_count": 69,
   "id": "DT--ZTCuIQig",
   "metadata": {
    "colab": {
     "base_uri": "https://localhost:8080/"
    },
    "executionInfo": {
     "elapsed": 19,
     "status": "ok",
     "timestamp": 1744931795947,
     "user": {
      "displayName": "Laura Legat",
      "userId": "08447403520972321571"
     },
     "user_tz": -120
    },
    "id": "DT--ZTCuIQig",
    "outputId": "a64ee209-656c-4075-8e94-16463df1a841"
   },
   "outputs": [
    {
     "data": {
      "text/plain": [
       "tensor([[0, 1],\n",
       "        [2, 3],\n",
       "        [4, 5],\n",
       "        [6, 7],\n",
       "        [8, 9]])"
      ]
     },
     "execution_count": 69,
     "metadata": {},
     "output_type": "execute_result"
    }
   ],
   "source": [
    "x = x.squeeze() # removes the extra empty dimension, unsqueeze would add it back\n",
    "x"
   ]
  },
  {
   "cell_type": "markdown",
   "id": "qQwMBJ2MJDpA",
   "metadata": {
    "id": "qQwMBJ2MJDpA"
   },
   "source": [
    "**Multiplying tensors**\n",
    "\n",
    "Similar to Numpy matrices, we have different ways to multiply Tensors:"
   ]
  },
  {
   "cell_type": "code",
   "execution_count": 70,
   "id": "GyovqkgSJKJo",
   "metadata": {
    "colab": {
     "base_uri": "https://localhost:8080/"
    },
    "executionInfo": {
     "elapsed": 17,
     "status": "ok",
     "timestamp": 1744931795965,
     "user": {
      "displayName": "Laura Legat",
      "userId": "08447403520972321571"
     },
     "user_tz": -120
    },
    "id": "GyovqkgSJKJo",
    "outputId": "dd7bfcfa-1749-4500-e0e3-6a82ee446c68"
   },
   "outputs": [
    {
     "name": "stdout",
     "output_type": "stream",
     "text": [
      "tensor.mul(tensor) \n",
      " tensor([[1., 0., 1., 1.],\n",
      "        [1., 0., 1., 1.],\n",
      "        [1., 0., 1., 1.],\n",
      "        [1., 0., 1., 1.]]) \n",
      "\n",
      "tensor * tensor \n",
      " tensor([[1., 0., 1., 1.],\n",
      "        [1., 0., 1., 1.],\n",
      "        [1., 0., 1., 1.],\n",
      "        [1., 0., 1., 1.]])\n",
      "tensor @ tensor.T \n",
      " tensor([[3., 3., 3., 3.],\n",
      "        [3., 3., 3., 3.],\n",
      "        [3., 3., 3., 3.],\n",
      "        [3., 3., 3., 3.]])\n"
     ]
    }
   ],
   "source": [
    "# This computes the element-wise product\n",
    "print(f\"tensor.mul(tensor) \\n {tensor.mul(tensor)} \\n\")\n",
    "# Alternative syntax:\n",
    "print(f\"tensor * tensor \\n {tensor * tensor}\")\n",
    "# Alternative syntax:\n",
    "print(f\"tensor @ tensor.T \\n {tensor @ tensor.T}\")"
   ]
  },
  {
   "cell_type": "markdown",
   "id": "xq8iafJqJdUJ",
   "metadata": {
    "id": "xq8iafJqJdUJ"
   },
   "source": [
    "**In-place operations**\n",
    "\n",
    "In-place operations are operations that modify the datastructure directly, without having to re-assess it.\n",
    "Operations that have a `_` suffix are in-place.\n",
    "For example: `x.add_(y)` will directly add `y` to `x` without needing to call `x = x.add(y)`. However, their use is discouraged when computing derivates (important later when traiing models) due to the loss of the history."
   ]
  },
  {
   "cell_type": "code",
   "execution_count": 71,
   "id": "1Sy8JJ_MJ1RR",
   "metadata": {
    "colab": {
     "base_uri": "https://localhost:8080/"
    },
    "executionInfo": {
     "elapsed": 11,
     "status": "ok",
     "timestamp": 1744931795978,
     "user": {
      "displayName": "Laura Legat",
      "userId": "08447403520972321571"
     },
     "user_tz": -120
    },
    "id": "1Sy8JJ_MJ1RR",
    "outputId": "f65daa5c-80ed-4a83-a4c1-180290b1e312"
   },
   "outputs": [
    {
     "name": "stdout",
     "output_type": "stream",
     "text": [
      "tensor([[1., 0., 1., 1.],\n",
      "        [1., 0., 1., 1.],\n",
      "        [1., 0., 1., 1.],\n",
      "        [1., 0., 1., 1.]]) \n",
      "\n",
      "tensor([[6., 5., 6., 6.],\n",
      "        [6., 5., 6., 6.],\n",
      "        [6., 5., 6., 6.],\n",
      "        [6., 5., 6., 6.]])\n"
     ]
    }
   ],
   "source": [
    "print(tensor, \"\\n\")\n",
    "tensor.add_(5)\n",
    "print(tensor)"
   ]
  },
  {
   "cell_type": "markdown",
   "id": "FOI4Z8MzL-QZ",
   "metadata": {
    "id": "FOI4Z8MzL-QZ"
   },
   "source": [
    "**From Tensors to NumPy**\n",
    "\n",
    "Just as we can go from Numpy arrays to tensors, we can also convert them back."
   ]
  },
  {
   "cell_type": "code",
   "execution_count": 72,
   "id": "-4fwgTHXMHdy",
   "metadata": {
    "colab": {
     "base_uri": "https://localhost:8080/"
    },
    "executionInfo": {
     "elapsed": 5,
     "status": "ok",
     "timestamp": 1744931795984,
     "user": {
      "displayName": "Laura Legat",
      "userId": "08447403520972321571"
     },
     "user_tz": -120
    },
    "id": "-4fwgTHXMHdy",
    "outputId": "8c483fab-6231-4c1d-e517-347c5466e846"
   },
   "outputs": [
    {
     "name": "stdout",
     "output_type": "stream",
     "text": [
      "Tensor: tensor([1., 1., 1., 1., 1.])\n",
      "Numpy: [1. 1. 1. 1. 1.]\n"
     ]
    }
   ],
   "source": [
    "t = torch.ones(5)\n",
    "print(f\"Tensor: {t}\")\n",
    "n = t.numpy()\n",
    "print(f\"Numpy: {n}\")"
   ]
  },
  {
   "cell_type": "markdown",
   "id": "M7TJtaiGMM4a",
   "metadata": {
    "id": "M7TJtaiGMM4a"
   },
   "source": [
    "A change in the tensor reflects a change in the NumPy array:"
   ]
  },
  {
   "cell_type": "code",
   "execution_count": 73,
   "id": "T-0n3PF2MSoy",
   "metadata": {
    "colab": {
     "base_uri": "https://localhost:8080/"
    },
    "executionInfo": {
     "elapsed": 11,
     "status": "ok",
     "timestamp": 1744931795996,
     "user": {
      "displayName": "Laura Legat",
      "userId": "08447403520972321571"
     },
     "user_tz": -120
    },
    "id": "T-0n3PF2MSoy",
    "outputId": "a64091a9-700d-4974-ca42-2d7ca7a2077f"
   },
   "outputs": [
    {
     "name": "stdout",
     "output_type": "stream",
     "text": [
      "Tensor: tensor([2., 2., 2., 2., 2.])\n",
      "Numpy: [2. 2. 2. 2. 2.]\n"
     ]
    }
   ],
   "source": [
    "t.add_(1)\n",
    "print(f\"Tensor: {t}\")\n",
    "print(f\"Numpy: {n}\")"
   ]
  },
  {
   "cell_type": "markdown",
   "id": "6DdbVweFW2Px",
   "metadata": {
    "id": "6DdbVweFW2Px"
   },
   "source": [
    "### torch.autograd and the Computational Graph\n",
    "\n",
    "**A word on training Neural Networks**\n",
    "\n",
    "A neural network often follows the structure of having an input layer (where parts of our input data is collected), multiple model layers (hidden layers, if $\\geq$ 2 then it is a deep neural network), and an output layer, which tells us the model prediction. The layers are defined by functions, which contain paremeters (weights and biases). Generally, the training procedure of neural networks follows a two-step approach:\n",
    "\n",
    "*   **Forward Pass:** During the forward pass or forward propagation, the model runs the input data through the consecutive hidden layers and learns a representation of the input.It makes a best guess about the correct output from what it has learned.\n",
    "\n",
    "*   **Backward Pass**: During the backward pass, traverses backwards through the architecture starting at the output layer. First, the error (how far the model prediction was off from the true output) is computed. That is propagated backwards through the model, collecting the derivatives of the error with respect to the parameters of the layer. These are called the model gradients. The gradients are used to adjust the parameters such that the next forward pass hopefully goes a bit better. Once the backward pass is done, another forward pass is started, until a certain stop criterion. For a more detailed, mathematical walkthrough\n",
    "of backprop, check out this [video from\n",
    "3Blue1Brown](https://www.youtube.com/watch?v=tIeHLnjs5U8).\n",
    "\n",
    "`torch.autograd` is PyTorch's automatic differentiation feature that is used for the backward pass of neural networks. Automatic differentiation here means that given a consecutive set of functions (like the layers of a neural network), the differentiation engine figures out automatically how to compute the gradients. In PyTorch, this is done by calling the `backward()` method. Let's look at an example. Let\\'s assume `a` and `b` to be parameters of an NN, and `Q` to be a layer.\n",
    "\n",
    "\n"
   ]
  },
  {
   "cell_type": "code",
   "execution_count": 74,
   "id": "XyKhc0YfaZ3s",
   "metadata": {
    "colab": {
     "base_uri": "https://localhost:8080/"
    },
    "executionInfo": {
     "elapsed": 7,
     "status": "ok",
     "timestamp": 1744931795997,
     "user": {
      "displayName": "Laura Legat",
      "userId": "08447403520972321571"
     },
     "user_tz": -120
    },
    "id": "XyKhc0YfaZ3s",
    "outputId": "a6aef816-47b4-4a89-82d6-c3d7583aca76"
   },
   "outputs": [
    {
     "data": {
      "text/plain": [
       "(tensor([2., 3.], requires_grad=True), tensor([6., 4.], requires_grad=True))"
      ]
     },
     "execution_count": 74,
     "metadata": {},
     "output_type": "execute_result"
    }
   ],
   "source": [
    "# we create example \"model inputs\" a and b\n",
    "# requires_grad parameter tells PyTorch to store gradients\n",
    "a = torch.tensor([2., 3.], requires_grad=True)\n",
    "b = torch.tensor([6., 4.], requires_grad=True)\n",
    "a,b"
   ]
  },
  {
   "cell_type": "code",
   "execution_count": 75,
   "id": "0uL8gy4YarxD",
   "metadata": {
    "colab": {
     "base_uri": "https://localhost:8080/"
    },
    "executionInfo": {
     "elapsed": 5,
     "status": "ok",
     "timestamp": 1744931795998,
     "user": {
      "displayName": "Laura Legat",
      "userId": "08447403520972321571"
     },
     "user_tz": -120
    },
    "id": "0uL8gy4YarxD",
    "outputId": "d286539c-fbcc-4129-b7ea-653f9520a54f"
   },
   "outputs": [
    {
     "data": {
      "text/plain": [
       "tensor([-12.,  65.], grad_fn=<SubBackward0>)"
      ]
     },
     "execution_count": 75,
     "metadata": {},
     "output_type": "execute_result"
    }
   ],
   "source": [
    "# next, we define a function (can be imagined as the first hidden layer of a network) that is dependent on our input\n",
    "Q = 3*a**3 - b**2\n",
    "Q"
   ]
  },
  {
   "cell_type": "markdown",
   "id": "WPc1jXTYa3rN",
   "metadata": {
    "id": "WPc1jXTYa3rN"
   },
   "source": [
    "Fisrtly, since `Q` was created as a result of `a` and `b`, or in other words is dependent on `a` and `b`, `autograd` attached a `grad_fn` to the `Q` tensor. It specifies that `Q` was created from `a` and `b` through subtraction, thus it has the `SubBackward` function attached as `grad_fn`. Since `Q` has a `grad_fn`, we can now use `autograd` and automatically calculate the derivative by calling `backward`. Afterwards, the gradients are deposited in `Q.grad`. I.e. we want to calculate:\n",
    "\n",
    "$$\\frac{\\partial Q}{\\partial a} = 9a^2 → [36, 81]$$\n",
    "\n",
    "Since $9a^2 = 9 * [2, 3]^2 = 9* [4, 9]$\n",
    "\n",
    "$$\\frac{\\partial Q}{\\partial b} = -2b → [-12, -8]$$\n",
    "\n",
    "We need to explicitly pass a `gradient` argument in `Q.backward()`\n",
    "because it is a vector. `gradient` is a tensor of the same shape as `Q`,\n",
    "and it represents the gradient of Q w.r.t. itself, i.e.\n",
    "\n",
    "$$\\frac{dQ}{dQ} = 1$$"
   ]
  },
  {
   "cell_type": "code",
   "execution_count": 76,
   "id": "8K0GHR4WbrQw",
   "metadata": {
    "colab": {
     "base_uri": "https://localhost:8080/"
    },
    "executionInfo": {
     "elapsed": 5,
     "status": "ok",
     "timestamp": 1744931796003,
     "user": {
      "displayName": "Laura Legat",
      "userId": "08447403520972321571"
     },
     "user_tz": -120
    },
    "id": "8K0GHR4WbrQw",
    "outputId": "65cd9dba-4fd3-4a8d-8a5a-e2686b5a90cb"
   },
   "outputs": [
    {
     "name": "stdout",
     "output_type": "stream",
     "text": [
      "tensor([36., 81.])\n",
      "tensor([-12.,  -8.])\n"
     ]
    }
   ],
   "source": [
    "Q.backward(torch.tensor([1., 1.])) # # first derivatives of Q wrt. a,b\n",
    "print(a.grad)\n",
    "print(b.grad)"
   ]
  },
  {
   "cell_type": "markdown",
   "id": "YRTJn8Gadq7c",
   "metadata": {
    "id": "YRTJn8Gadq7c"
   },
   "source": [
    "### Excursion: The Computational Graph in PyTorch\n",
    "\n",
    "`autograd` keeps a record of all tensors and all\n",
    "functions (layers) (along with the resulting new tensors) in a directed acyclic\n",
    "graph (DAG) consisting of\n",
    "[Function](https://pytorch.org/docs/stable/autograd.html#torch.autograd.Function)\n",
    "objects. In this graph, leaves are the input tensors, roots are the output\n",
    "tensors. By tracing this graph from roots to leaves, you can\n",
    "automatically compute the gradients using the chain rule from calculus.\n",
    "\n",
    "In a forward pass, autograd does two things simultaneously:\n",
    "\n",
    "-   run the requested operation to compute a resulting tensor, and\n",
    "-   maintain the operation's `grad_fn` in the DAG.\n",
    "\n",
    "The backward pass kicks off when `.backward()` is called on the DAG\n",
    "root. `autograd` then:\n",
    "\n",
    "-   computes the gradients from each `grad_fn`,\n",
    "-   accumulates them in the respective tensor's `grad` attribute, and\n",
    "-   using the chain rule, propagates all the way to the leaf tensors.\n",
    "\n",
    "Below is a visual representation of the DAG of our example. We have two inputs, `a` and `b` of shape (2). `a` is raised to the power and then multiplied, thus this is reflected in the `PowBackward` and `MulBackward` `grad_fn`'s. In the\n",
    "graph, the arrows are in the direction of the forward pass. The nodes\n",
    "represent the backward functions of each operation in the forward pass.\n",
    "\n",
    "![](https://pytorch.org/tutorials/_static/img/dag_autograd.png)\n",
    "\n",
    "`torch.autograd` tracks operations on all tensors which have their\n",
    "`requires_grad` flag set to `True`. For tensors that don't require\n",
    "gradients, setting this attribute to `False` excludes it from the\n",
    "gradient computation DAG. Such parameters in neural network training are usually termed frozen parameters (as they are not anymore updated). To save time, it is useful to freeze parts of your model that you won't need to compute gradients for.\n"
   ]
  },
  {
   "cell_type": "markdown",
   "id": "ugRyvMPciveq",
   "metadata": {
    "id": "ugRyvMPciveq"
   },
   "source": [
    "## Neural Networks\n",
    "\n",
    "So far we have looked into `numpy`, `tensors` and `PyTorch` functionalities, as well as how `autograd`, and the forward/backward passes work. We now have some solid basics for diving into the creation, training and evaluation of Neural Networks. To understand the basics, we will first work with a very simple simple dataset `make_moons` from the `scikit-learn` library. This dataset generates two interleaving half circles, and your task will be to classify each point as being part of the correct half-circle.\n",
    "\n",
    "**A typical training/evaluation procedure for a neural network is as follows:**\n",
    "\n",
    "*   Obtain/download your dataset\n",
    "*   Split it into train-val-test splits (here, we only consider train and test splits since we do not focus on hyperparameters)\n",
    "*   Package your splits into `Dataloader`s for easier iteration and batching of the data\n",
    "*   Define a neural network architecture, here we define `SimpleClf`, a binary classifier\n",
    "*   Iterate over the dataset, passing each batch through the model (forward pass) and get their prediction (here, class labels of either 0 or 1)\n",
    "*   Calculate the loss (how far the model prediction is away from the true output)\n",
    "*   Calculate and propagate gradients backwards through the network (backward pass)\n",
    "*   Update the weights of the network through an update rule (not detailed here)\n",
    "* Repeat until a certain criterion/state is met (here, we repeat for a certain number of epochs)\n",
    "*   Evaluate your model on certain metrics\n",
    "\n",
    "As for each machine learning task, we first import the necessary libraries. We import the `make_moons` toy dataset along with `matplotlib`, a library for creating visualizations and plots in Python. Moreover, we import functionalities needed for neural network traiing with `PyTorch`.\n"
   ]
  },
  {
   "cell_type": "code",
   "execution_count": 77,
   "id": "8Oo0nVEVhYKK",
   "metadata": {
    "executionInfo": {
     "elapsed": 62,
     "status": "ok",
     "timestamp": 1744931796066,
     "user": {
      "displayName": "Laura Legat",
      "userId": "08447403520972321571"
     },
     "user_tz": -120
    },
    "id": "8Oo0nVEVhYKK"
   },
   "outputs": [],
   "source": [
    "from sklearn.datasets import make_moons\n",
    "from sklearn.model_selection import train_test_split\n",
    "from sklearn.metrics import accuracy_score\n",
    "\n",
    "import matplotlib.pyplot as plt\n",
    "\n",
    "import torch\n",
    "import torch.nn as nn\n",
    "import torch.nn.functional as F\n",
    "import torch.optim as optim\n",
    "from tqdm import tqdm # for visualizing the training progress\n",
    "from torch.utils.data import DataLoader, TensorDataset"
   ]
  },
  {
   "cell_type": "markdown",
   "id": "ZsFFlhnL4JB_",
   "metadata": {
    "id": "ZsFFlhnL4JB_"
   },
   "source": [
    "### A word on GPU's and `device`"
   ]
  },
  {
   "cell_type": "markdown",
   "id": "PJUQxq784NgZ",
   "metadata": {
    "id": "PJUQxq784NgZ"
   },
   "source": [
    "For now, we will not go much into detail about how to optimize for training on the GPU, but just that it is easily possible with `PyTorch`. In Google Colab, simply navigate to your task bar at the top and select Edit > Notebook Settings. Then choose one of the available free GPU's and re-connect your notebook. Then, the below cell should print `cuda`, which indicates that you will be training your model on the GPU. If you do not connect to a GPU, colab will automatically train your model on the cpu.\n",
    "\n",
    "It is useful to keep a `device` variable, as you can assign this to your tensors later on, specifying which one should be put onto your GPU."
   ]
  },
  {
   "cell_type": "code",
   "execution_count": 78,
   "id": "-c8m1DqW4Lrx",
   "metadata": {
    "colab": {
     "base_uri": "https://localhost:8080/"
    },
    "executionInfo": {
     "elapsed": 17,
     "status": "ok",
     "timestamp": 1744931796085,
     "user": {
      "displayName": "Laura Legat",
      "userId": "08447403520972321571"
     },
     "user_tz": -120
    },
    "id": "-c8m1DqW4Lrx",
    "outputId": "dbd2ce16-ae3a-4f49-ac59-74ba69a96555"
   },
   "outputs": [
    {
     "name": "stdout",
     "output_type": "stream",
     "text": [
      "Device:  cuda\n"
     ]
    }
   ],
   "source": [
    "# check device availability\n",
    "device = torch.device('cuda' if torch.cuda.is_available() else 'cpu')\n",
    "print('Device: ', device)"
   ]
  },
  {
   "cell_type": "markdown",
   "id": "632b94f5",
   "metadata": {},
   "source": [
    "In case you are not working with Google Colab, but rather locally, you might have more than one GPU available to specify from. Let's say you want to specify that your model training should happen on GPU number 1:"
   ]
  },
  {
   "cell_type": "code",
   "execution_count": 79,
   "id": "8c4a012a",
   "metadata": {},
   "outputs": [
    {
     "name": "stdout",
     "output_type": "stream",
     "text": [
      "Device:  cuda:1\n"
     ]
    }
   ],
   "source": [
    "# ONLY EXECUTE THIS CELL IF YOU HAVE MULTIPLE GPU's AVAILABLE\n",
    "device = torch.device('cuda:1' if torch.cuda.is_available() else 'cpu') # change 1 to whichever GPU you want to train on\n",
    "print('Device: ', device)"
   ]
  },
  {
   "cell_type": "markdown",
   "id": "h1PwF0wc1kkh",
   "metadata": {
    "id": "h1PwF0wc1kkh"
   },
   "source": [
    "### Obtaining the dataset"
   ]
  },
  {
   "cell_type": "markdown",
   "id": "7_w1OSlfn6x3",
   "metadata": {
    "id": "7_w1OSlfn6x3"
   },
   "source": [
    "Next, we generate some data points by specifying the number of points we want to be in our dataset (aka the dataset size), as well as the class labels. In our case, it will be binary classification, as data points can only be part of either the first half-moon (label=0) or the second half-moon (label=1). We also specify a `random_state`, which is a seed that will always lead to the same dataset being produced. In general, think about setting seeds in your machine learning projects when you need your results to be reproducible."
   ]
  },
  {
   "cell_type": "code",
   "execution_count": 80,
   "id": "HfWRfTownxM0",
   "metadata": {
    "executionInfo": {
     "elapsed": 3,
     "status": "ok",
     "timestamp": 1744931796086,
     "user": {
      "displayName": "Laura Legat",
      "userId": "08447403520972321571"
     },
     "user_tz": -120
    },
    "id": "HfWRfTownxM0"
   },
   "outputs": [],
   "source": [
    "# specify number of datapoints and their spread, feel free to play around with these parameters\n",
    "n_points = 500\n",
    "noise = 0.18\n",
    "seed = 42\n",
    "torch.manual_seed(seed)\n",
    "\n",
    "# x = 500 randomly spread datapoints with 2D coordinates -> (n_points, 2)\n",
    "# y = 500 labels (either 0 or 1 for each point) -> (n_points,)\n",
    "x, y = make_moons(n_samples=n_points, noise=noise, random_state=seed)"
   ]
  },
  {
   "cell_type": "code",
   "execution_count": 81,
   "id": "Q9jOGqCap7nF",
   "metadata": {
    "colab": {
     "base_uri": "https://localhost:8080/"
    },
    "executionInfo": {
     "elapsed": 12,
     "status": "ok",
     "timestamp": 1744931796096,
     "user": {
      "displayName": "Laura Legat",
      "userId": "08447403520972321571"
     },
     "user_tz": -120
    },
    "id": "Q9jOGqCap7nF",
    "outputId": "2471b0c9-aa83-4db7-9506-b5e499ad1ecf"
   },
   "outputs": [
    {
     "data": {
      "text/plain": [
       "(500, 2)"
      ]
     },
     "execution_count": 81,
     "metadata": {},
     "output_type": "execute_result"
    }
   ],
   "source": [
    "x.shape # first col has x-coordinates, second col has y-coordinates (not to be confused with x=data and y=labels)"
   ]
  },
  {
   "cell_type": "markdown",
   "id": "7Q9Uyy8PpxC8",
   "metadata": {
    "id": "7Q9Uyy8PpxC8"
   },
   "source": [
    "Let's use the `matplotlib` library to visualize our dataset:"
   ]
  },
  {
   "cell_type": "code",
   "execution_count": 82,
   "id": "lSL8ZFuCpOJP",
   "metadata": {
    "colab": {
     "base_uri": "https://localhost:8080/",
     "height": 468
    },
    "executionInfo": {
     "elapsed": 276,
     "status": "ok",
     "timestamp": 1744931796374,
     "user": {
      "displayName": "Laura Legat",
      "userId": "08447403520972321571"
     },
     "user_tz": -120
    },
    "id": "lSL8ZFuCpOJP",
    "outputId": "a9c9640a-c2ab-49bc-d6e2-08cf725f00d3"
   },
   "outputs": [
    {
     "data": {
      "image/png": "[encoded data removed]",
      "text/plain": [
       "<Figure size 800x500 with 1 Axes>"
      ]
     },
     "metadata": {},
     "output_type": "display_data"
    }
   ],
   "source": [
    "plt.figure(figsize=(8,5))\n",
    "plt.scatter(x[:,0], x[:,1], c=y, cmap='coolwarm')\n",
    "plt.title('Two Moons Data')\n",
    "plt.show()"
   ]
  },
  {
   "cell_type": "markdown",
   "id": "KwGTlBBP1saW",
   "metadata": {
    "id": "KwGTlBBP1saW"
   },
   "source": [
    "Here, we created a simple dataset ourselves, however oftentimes, the dataset will be downloaded. The dataset can contain anything from images, EEG waves, text etc. In further notebooks, we will work with external datasets, which have to be downloaded and often properly pre-processed first before they can be passed to a model."
   ]
  },
  {
   "cell_type": "markdown",
   "id": "UoEhH56PqPM2",
   "metadata": {
    "id": "UoEhH56PqPM2"
   },
   "source": [
    "### Splitting our dataset\n",
    "\n",
    "In Machine Learning, we split our dataset in the following manner:\n",
    "\n",
    "*   **Training set/split:** Portion of data used to train the model and which the parameters are being optimized on\n",
    "*   **Validatio set/split:** Portion of data used for optimizing a model's hyperparameters (we will talk about what hyperparameters are later on)\n",
    "*   **Test set/split:** Portion of data used to test the final model. This data is not part of the training set, thus it constitutes \"unseen\" and novel data from the model's perspective. It is used for us to see how well the model generalizes\n",
    "\n",
    "The majority of the dataset should go towards training. Mostly, splits are done in a 70-10-20 or 80-10-10 fashion, where e.g. 70% of the data consitutes the training set. `scikit-learn` offers an out-of-the-box functionality for the splitting of data. Since we are only training a very simple model today to teach you the basics, we will not be needing a validation split, and only work with training and test datasets.\n",
    "\n"
   ]
  },
  {
   "cell_type": "code",
   "execution_count": 83,
   "id": "ib_74ZQxre5I",
   "metadata": {
    "executionInfo": {
     "elapsed": 4,
     "status": "ok",
     "timestamp": 1744931796381,
     "user": {
      "displayName": "Laura Legat",
      "userId": "08447403520972321571"
     },
     "user_tz": -120
    },
    "id": "ib_74ZQxre5I"
   },
   "outputs": [],
   "source": [
    "x_train, x_test, y_train, y_test = train_test_split(x, y, test_size=0.2, random_state=seed) # 20% will be test set, 80% training set"
   ]
  },
  {
   "cell_type": "markdown",
   "id": "GFjYArLtsF82",
   "metadata": {
    "id": "GFjYArLtsF82"
   },
   "source": [
    "Let's visualize our training split:"
   ]
  },
  {
   "cell_type": "code",
   "execution_count": 84,
   "id": "2k60mTXOsJDl",
   "metadata": {
    "colab": {
     "base_uri": "https://localhost:8080/",
     "height": 468
    },
    "executionInfo": {
     "elapsed": 138,
     "status": "ok",
     "timestamp": 1744931796518,
     "user": {
      "displayName": "Laura Legat",
      "userId": "08447403520972321571"
     },
     "user_tz": -120
    },
    "id": "2k60mTXOsJDl",
    "outputId": "95642ff8-42a2-4799-e6ef-613b6869a784"
   },
   "outputs": [
    {
     "data": {
      "image/png": "[encoded data removed]",
      "text/plain": [
       "<Figure size 800x500 with 1 Axes>"
      ]
     },
     "metadata": {},
     "output_type": "display_data"
    }
   ],
   "source": [
    "plt.figure(figsize=(8,5))\n",
    "plt.scatter(x_train[:,0], x_train[:,1], c=y_train, cmap='coolwarm')\n",
    "plt.title('Two Moons Data - Training Split')\n",
    "plt.show()"
   ]
  },
  {
   "cell_type": "markdown",
   "id": "NpGh63aRz8IP",
   "metadata": {
    "id": "NpGh63aRz8IP"
   },
   "source": [
    "### Dataloaders\n",
    "\n",
    "\n",
    "\n"
   ]
  },
  {
   "cell_type": "markdown",
   "id": "KTBcL4SO6PJN",
   "metadata": {
    "id": "KTBcL4SO6PJN"
   },
   "source": [
    "In `PyTorch`, a `DataLoader` is an interable (object that can be looped through) that wraps itself around your dataset and makes accessing and batching it easier to deal with. Batching is important if we have for instance huge datasets where it is infeasible to pass the whole set to the model and and do calculations based on it at once. We thus define a suitable batch size. This depends on e.g. hardware constraints, training stability and speed, etc. Afterwards, we package our created data into a `PyTorch` `dataset` class (here we use `TensorDataset`) and finally wrap it in a `DataLoader`."
   ]
  },
  {
   "cell_type": "code",
   "execution_count": 85,
   "id": "aBdLUPRY29p5",
   "metadata": {
    "executionInfo": {
     "elapsed": 4,
     "status": "ok",
     "timestamp": 1744931796524,
     "user": {
      "displayName": "Laura Legat",
      "userId": "08447403520972321571"
     },
     "user_tz": -120
    },
    "id": "aBdLUPRY29p5"
   },
   "outputs": [],
   "source": [
    "BATCH_SIZE = 64 # feel free to play around with the batch size parameter\n",
    "\n",
    "# set generator for deterministic shuffling\n",
    "g = torch.Generator()\n",
    "g.manual_seed(seed)\n",
    "\n",
    "# create tensors out of your input data and set the device accordingly (the tensors will reside on the cpu or gpu)\n",
    "x_train_tensor, y_train_tensor = torch.tensor(x_train, dtype=torch.float32), torch.tensor(y_train, dtype=torch.float32).unsqueeze(1)\n",
    "x_test_tensor, y_test_tensor = torch.tensor(x_test, dtype=torch.float32), torch.tensor(y_test, dtype=torch.float32).unsqueeze(1)\n",
    "\n",
    "train_dataset = TensorDataset(x_train_tensor, y_train_tensor)\n",
    "test_dataset = TensorDataset(x_test_tensor, y_test_tensor)\n",
    "\n",
    "train_loader = DataLoader(train_dataset, batch_size=BATCH_SIZE, shuffle=True, generator=g)\n",
    "test_loader = DataLoader(test_dataset, batch_size=BATCH_SIZE)"
   ]
  },
  {
   "cell_type": "markdown",
   "id": "lgZsw53utD5m",
   "metadata": {
    "id": "lgZsw53utD5m"
   },
   "source": [
    "### Define a simple binary classifier\n",
    "\n",
    "We will now create a simple binary classification pipeline using `PyTorch` and `scikit-learn` and explain important training loop components along the way. The model will be trained using the above visualized training split, and finally evaluated on the test set.\n",
    "\n",
    "As seen in our first tutorial, neural networks in Python are defined as classes with at least an `__init__` constructor and a `forward` method. `__init__` is called each time we instantiate a new `SimpleClf`, which will be our simple binary classifier that predicts the class of each data point from our Two Moons dataset. We have to specify the dimensions of each layer, as well as what the forward pass should look like. Here is an example of what a simple network architecture for our problem can look like:"
   ]
  },
  {
   "cell_type": "code",
   "execution_count": 86,
   "id": "Y8b9UO5QthsP",
   "metadata": {
    "colab": {
     "base_uri": "https://localhost:8080/"
    },
    "executionInfo": {
     "elapsed": 25,
     "status": "ok",
     "timestamp": 1744931796553,
     "user": {
      "displayName": "Laura Legat",
      "userId": "08447403520972321571"
     },
     "user_tz": -120
    },
    "id": "Y8b9UO5QthsP",
    "outputId": "32891029-cafe-429d-a560-75f56259b138"
   },
   "outputs": [
    {
     "name": "stdout",
     "output_type": "stream",
     "text": [
      "SimpleClf(\n",
      "  (fc1): Linear(in_features=2, out_features=10, bias=True)\n",
      "  (fc2): Linear(in_features=10, out_features=10, bias=True)\n",
      "  (fc3): Linear(in_features=10, out_features=10, bias=True)\n",
      "  (fc4): Linear(in_features=10, out_features=1, bias=True)\n",
      ")\n"
     ]
    }
   ],
   "source": [
    "class SimpleClf(nn.Module):\n",
    "  def __init__(self, input_dim, hidden_dim, output_dim):\n",
    "    super(SimpleClf, self).__init__() # initializes base class nn.Module\n",
    "\n",
    "    self.fc1 = nn.Linear(in_features=input_dim, out_features=hidden_dim) # input layer\n",
    "    self.fc2 = nn.Linear(in_features=hidden_dim, out_features=hidden_dim) # hidden layer 1\n",
    "    self.fc3 = nn.Linear(in_features=hidden_dim, out_features=hidden_dim) # hidden layer 2\n",
    "    self.fc4 = nn.Linear(in_features=hidden_dim, out_features=output_dim) # output layer\n",
    "\n",
    "  def forward(self, x):\n",
    "    x = F.relu(self.fc1(x))\n",
    "    x = F.relu(self.fc2(x))\n",
    "    x = F.relu(self.fc3(x))\n",
    "    x = F.sigmoid(self.fc4(x))\n",
    "    return x\n",
    "\n",
    "model = SimpleClf(input_dim=2, hidden_dim=10, output_dim=1)\n",
    "print(model)"
   ]
  },
  {
   "cell_type": "markdown",
   "id": "083q4OIu7Vgr",
   "metadata": {
    "id": "083q4OIu7Vgr"
   },
   "source": [
    "There are some concepts we should discuss at this point:\n",
    "\n",
    "*   **Linear layers:** We can use `nn.Linear(H_in, H_out)` to create a a linear layer. This will take a matrix of `(N, H_in)` dimensions and output a matrix of `(N, H_out)`. The linear layer performs the operation $Wx+b$, where the parameters weights $W$ and bias $b$ are initialized randomly. There are other types of modules in the `nn` class, which are also used in other model architectures and which we will look at in other notebooks.\n",
    "*   **Activation functions:** We can also apply activations functions to our tensors. Activation functions are used to add non-linearity to our network and make sure it can learn a more complicated function than just linear. Some examples of activations functions are `nn.ReLU()`, or `nn.Sigmoid()`, which we used above. The `nn.Sigmoid` is used in binary classification specifically, since it outputs a result between 0 and 1.\n",
    "\n",
    "You can easily expect your model size, i.e. the number of parameters:"
   ]
  },
  {
   "cell_type": "code",
   "execution_count": 87,
   "id": "zWRFFXNB5eva",
   "metadata": {
    "colab": {
     "base_uri": "https://localhost:8080/"
    },
    "executionInfo": {
     "elapsed": 14,
     "status": "ok",
     "timestamp": 1744931796569,
     "user": {
      "displayName": "Laura Legat",
      "userId": "08447403520972321571"
     },
     "user_tz": -120
    },
    "id": "zWRFFXNB5eva",
    "outputId": "dbb76943-50a0-4fae-d1d9-7b4cd2d9fa0b"
   },
   "outputs": [
    {
     "name": "stdout",
     "output_type": "stream",
     "text": [
      "261\n"
     ]
    }
   ],
   "source": [
    "print(sum(p.numel() for p in model.parameters()))"
   ]
  },
  {
   "cell_type": "markdown",
   "id": "8HRg2FCvxDGq",
   "metadata": {
    "id": "8HRg2FCvxDGq"
   },
   "source": [
    "### Define the training loop"
   ]
  },
  {
   "cell_type": "markdown",
   "id": "9LnbF2Xz9eid",
   "metadata": {
    "id": "9LnbF2Xz9eid"
   },
   "source": [
    "Next, we define the training and evaluation setup. Some more concepts that we will encounter are:\n",
    "\n",
    "*   **Epoch:** This is the number of iterations we train the model for. During each epoch, the model sees the whole training set once.\n",
    "*   **Loss function:** A loss function takes the model prediction, and computes a value that estimates how far away it is from the target/true value. There are several different loss functions under the `torch.nn` package. For a binary classification problem, commonly the Binary Cross-Entropy Loss is chosen, i.e. `nn.BCELoss`. The loss function is also often coined the criterion. Each problem has a loss landscape that we traverse during training. Our goal is to reach the global minimum, which might not always happen, but often a local minimum is good too.\n",
    "*   **Optimizer:** The `nn.optim` optimizer states the algorithm that updates the model's weights. It tries to minimize the loss by adjusting weights in the right direction, i.e. that of the steepest descent (imagine descending in the loss surface). Since the gradients are summed up here constantly, the gradients from the past iteration need to be erased from the past epoch. This is done through calling `zero_grad()`\n",
    "*   **Learning rate:** The learning rate (or LR, in short) determines how big the step into the \"right direction\" is. It is important that the learning rate is not too low, since that slows down training, and not too high, since we would jump around to frantically in the loss landscape and potentially skip over the best solution (unstable training)"
   ]
  },
  {
   "cell_type": "code",
   "execution_count": 88,
   "id": "mTHPvcyzxdb1",
   "metadata": {
    "colab": {
     "base_uri": "https://localhost:8080/",
     "height": 525
    },
    "executionInfo": {
     "elapsed": 4815,
     "status": "ok",
     "timestamp": 1744931801385,
     "user": {
      "displayName": "Laura Legat",
      "userId": "08447403520972321571"
     },
     "user_tz": -120
    },
    "id": "mTHPvcyzxdb1",
    "outputId": "eb15469e-ae65-4a46-89b5-037112397b80"
   },
   "outputs": [
    {
     "name": "stderr",
     "output_type": "stream",
     "text": [
      "Training on two moons...: 100%|██████████| 200/200 [00:02<00:00, 80.06it/s]\n"
     ]
    },
    {
     "data": {
      "image/png": "[encoded data removed]",
      "text/plain": [
       "<Figure size 1200x500 with 2 Axes>"
      ]
     },
     "metadata": {},
     "output_type": "display_data"
    }
   ],
   "source": [
    "# define some training setting parameters\n",
    "lr = 1e-3\n",
    "n_epochs = 200\n",
    "\n",
    "criterion = nn.BCELoss()\n",
    "optimizer = optim.Adam(model.parameters(), lr=lr)\n",
    "\n",
    "# lists for plotting accuracy and loss at the end\n",
    "losses = []\n",
    "accs = []\n",
    "\n",
    "for epoch in tqdm(range(n_epochs), desc='Training on two moons...'):\n",
    "  #TRAIN PART\n",
    "  model.train() # put model into training mode, i.e. dropout, batchnorm, gradient calculation etc. is active\n",
    "  model = model.to(device)\n",
    "  epoch_loss = [] # keep track of your epoch loss which you want to print at the end\n",
    "\n",
    "  for x, y in train_loader:\n",
    "    x, y = x.to(device), y.to(device) # place tensors on the correct device for training\n",
    "\n",
    "    optimizer.zero_grad() # reset gradients from previous iteration such that they do not sum up\n",
    "\n",
    "    pred = model(x)\n",
    "    loss = criterion(pred, y) # calculate the loss of the training sample\n",
    "    loss.backward() # calculate gradients wrt to model parameters\n",
    "\n",
    "    optimizer.step() # update model parameters\n",
    "\n",
    "    epoch_loss.append(loss.item()) # add batch loss to epoch loss\n",
    "\n",
    "  # print loss over all samples for the current epoch\n",
    "  losses.append(np.mean(epoch_loss))\n",
    "\n",
    "\n",
    "  #EVAL PART\n",
    "  model.eval() # set model to evaluation mode, i.e. certain parts will be inactivate\n",
    "  with torch.no_grad():\n",
    "    preds_all, y_all = [], []\n",
    "    for x_t, y_t in test_loader:\n",
    "      x_t = x_t.to(device)\n",
    "      pred_t = model(x_t)\n",
    "      pred_t = (pred_t > 0.5).float().cpu() # boolean mask converted to class labels\n",
    "\n",
    "      preds_all.append(pred_t) # append predicted labels of the current batch\n",
    "      y_all.append(y_t) # append the true labels of the current batch\n",
    "\n",
    "    y_pred = torch.cat(preds_all)\n",
    "    y_true = torch.cat(y_all)\n",
    "    acc = accuracy_score(y_true, y_pred)\n",
    "\n",
    "  accs.append(acc)\n",
    "\n",
    "\n",
    "# plot the loss and accuracy over the training epochs\n",
    "plt.figure(figsize=(12, 5))\n",
    "\n",
    "plt.subplot(1, 2, 1)\n",
    "plt.plot(np.arange(n_epochs), losses, label='Training Loss', color='red')\n",
    "plt.xlabel('Epoch')\n",
    "plt.ylabel('Loss')\n",
    "plt.title('Training Loss Over Epochs')\n",
    "plt.grid(True)\n",
    "plt.legend()\n",
    "\n",
    "plt.subplot(1, 2, 2)\n",
    "plt.plot(np.arange(n_epochs), accs, label='Test Accuracy', color='blue')\n",
    "plt.xlabel('Epoch')\n",
    "plt.ylabel('Accuracy')\n",
    "plt.title('Test Accuracy Over Epochs')\n",
    "plt.grid(True)\n",
    "plt.legend()\n",
    "\n",
    "plt.tight_layout()\n",
    "plt.show()"
   ]
  },
  {
   "cell_type": "markdown",
   "id": "VKj-W59Yxe9M",
   "metadata": {
    "id": "VKj-W59Yxe9M"
   },
   "source": [
    "### Visualizing the decision boundary"
   ]
  },
  {
   "cell_type": "markdown",
   "id": "XBZNOGt39FMv",
   "metadata": {
    "id": "XBZNOGt39FMv"
   },
   "source": [
    "Finally, we provide a short snippet to visualize how our classifier separates the data points. It is the invisible boundary the model learns during training. We want this line to maximally precise separate the two classes."
   ]
  },
  {
   "cell_type": "code",
   "execution_count": 89,
   "id": "pybgsAhDxhvh",
   "metadata": {
    "colab": {
     "base_uri": "https://localhost:8080/",
     "height": 452
    },
    "executionInfo": {
     "elapsed": 208,
     "status": "ok",
     "timestamp": 1744931801595,
     "user": {
      "displayName": "Laura Legat",
      "userId": "08447403520972321571"
     },
     "user_tz": -120
    },
    "id": "pybgsAhDxhvh",
    "outputId": "b8cb470e-79ff-414f-dc85-a6960901639f"
   },
   "outputs": [
    {
     "data": {
      "image/png": "[encoded data removed]",
      "text/plain": [
       "<Figure size 640x480 with 1 Axes>"
      ]
     },
     "metadata": {},
     "output_type": "display_data"
    }
   ],
   "source": [
    "xx, yy = torch.meshgrid(torch.linspace(-2, 3, 300), torch.linspace(-1.5, 2, 300))\n",
    "grid = torch.cat((xx.reshape(-1, 1), yy.reshape(-1, 1)), dim=1)\n",
    "grid = grid.to(device)\n",
    "with torch.no_grad():\n",
    "  preds = model(grid).reshape(xx.shape)\n",
    "preds = preds.cpu()\n",
    "plt.contourf(xx, yy, preds, levels=[0, 0.5, 1], alpha=0.6, cmap='coolwarm')\n",
    "plt.scatter(x_test[:, 0], x_test[:, 1], c=y_test, cmap='coolwarm', edgecolor='white')\n",
    "plt.title(\"Visualization of Decision Boundary on Test Data\")\n",
    "plt.show()"
   ]
  }
 ],
 "metadata": {
  "colab": {
   "provenance": []
  },
  "kernelspec": {
   "display_name": "xAImed",
   "language": "python",
   "name": "python3"
  },
  "language_info": {
   "codemirror_mode": {
    "name": "ipython",
    "version": 3
   },
   "file_extension": ".py",
   "mimetype": "text/x-python",
   "name": "python",
   "nbconvert_exporter": "python",
   "pygments_lexer": "ipython3",
   "version": "3.10.17"
  }
 },
 "nbformat": 4,
 "nbformat_minor": 5
}
