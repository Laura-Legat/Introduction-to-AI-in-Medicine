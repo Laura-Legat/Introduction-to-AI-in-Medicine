{
 "cells": [
  {
   "cell_type": "markdown",
   "metadata": {
    "id": "cVz4VV6Ciaxx"
   },
   "source": [
    "# Image Classification with the Medical MNIST Dataset\n",
    "\n",
    "**Sources:**\n",
    "\n",
    "https://medmnist.com/\n",
    "\n",
    "https://github.com/MedMNIST/MedMNIST\n",
    "\n",
    "---\n",
    "\n",
    "Copyright statement:\n",
    "This material, no matter whether in printed or electronic form, may be used for personal and non-commercial educational use only. Any reproduction of this manuscript, no matter whether as a whole or in parts, no matter whether in printed or in electronic form, requires explicit prior acceptance of the authors."
   ]
  },
  {
   "cell_type": "markdown",
   "metadata": {
    "id": "2iotp5fG5TZk"
   },
   "source": [
    "So far, we dived into the basics of Python, PyTorch, `autograd` and how to create and train neural networks. In the last notebooks, we have looked at a so-called Multi-Layer-Perceptron, a deep neural network consisting or linear layers and activation functions. In this notebook we will look at another class of neural network architectures - a Convolutional Neural Network (CNN). CNN's are commonly used for various image-related tasks, such as classifying an image, segmenting objects in an image etc. In this notebook, we will focus on classifying skin lesions from the publicly available `DermaMNIST` dataset."
   ]
  },
  {
   "cell_type": "markdown",
   "metadata": {
    "id": "cyYm53QAkaTr"
   },
   "source": [
    "## The Medical MNIST Dataset\n",
    "\n",
    "MedMNIST is a large-scale MIST-like collection of biomedical images, sorted into 18 pre-processed datasets: 12 for 2D (e.g. retina, dermal, tissue etc.) with ~708K images, and 6 for 3D (e.g. organs, fractures etc.) with ~10K images. MedMNIST is designed for performing image classification in various settings (binary/multiclass, ordinal regression, multi-label), supporting numerous research and educational purposes in biomedical image analysis. Similarly to the MNIST dataset of handwritten digits, MedMNIST images are resized to 28x28 resolution, though larger variants up to 224x224 are available. More information about the MedMNIST dataset is given under the \"Sources\" above. Here are some snippets of what MedMNIST contains:\n",
    "\n",
    "![Datasets in MedMNIST](https://raw.githubusercontent.com/MedMNIST/MedMNIST/main/assets/medmnistv2.jpg)"
   ]
  },
  {
   "cell_type": "markdown",
   "metadata": {
    "id": "abF_hyu3g31m"
   },
   "source": [
    "## The Task\n",
    "\n",
    "In this notebook, you will work with the 2D DermaMNIST sub-dataset, which consists of ~10K images of skin lesions (area of your skin that is abnormal from the skin around it), catregorized into 7 classes. The DermaMNIST is based on the HAM10000, a large collection of multi-source dermatoscopic images. You will work out a simple multi-class image classification pipeline where your model maps an image of a skin lesion to one of the 7 classes."
   ]
  },
  {
   "cell_type": "markdown",
   "metadata": {
    "id": "b0PQNpXiegSv"
   },
   "source": [
    "## Setup\n",
    "\n",
    "First, make sure to mount your Google Drive in case you are running this notebook on Google Colab. This makes sure that any downloaded or saved data is easily accessible to you while running the notebook."
   ]
  },
  {
   "cell_type": "code",
   "execution_count": 1,
   "metadata": {
    "colab": {
     "base_uri": "https://localhost:8080/"
    },
    "executionInfo": {
     "elapsed": 71043,
     "status": "ok",
     "timestamp": 1745231739069,
     "user": {
      "displayName": "Laura Legat",
      "userId": "08447403520972321571"
     },
     "user_tz": -120
    },
    "id": "kK5m14p3iR2b",
    "outputId": "f18dde54-ca2f-4fcd-df44-f11929624330"
   },
   "outputs": [
    {
     "name": "stdout",
     "output_type": "stream",
     "text": [
      "Mounted at /content/drive\n"
     ]
    }
   ],
   "source": [
    "from google.colab import drive\n",
    "drive.mount('/content/drive')"
   ]
  },
  {
   "cell_type": "markdown",
   "metadata": {
    "id": "m5u2ObHviSce"
   },
   "source": [
    "MedMNIST requires some Python packages, so let's make sure they are installed. Any packages that are needed in this notebook (e.g. torchvision) are also installed."
   ]
  },
  {
   "cell_type": "code",
   "execution_count": 1,
   "metadata": {
    "executionInfo": {
     "elapsed": 5373,
     "status": "ok",
     "timestamp": 1745231744536,
     "user": {
      "displayName": "Laura Legat",
      "userId": "08447403520972321571"
     },
     "user_tz": -120
    },
    "id": "Ruf4s6gNe32d"
   },
   "outputs": [],
   "source": [
    "import torch\n",
    "import torch.nn as nn\n",
    "import torch.nn.functional as F\n",
    "from torch.utils.data import DataLoader\n",
    "from torchvision.transforms import v2\n",
    "import numpy as np\n",
    "from tqdm import tqdm\n",
    "import matplotlib.pyplot as plt"
   ]
  },
  {
   "cell_type": "markdown",
   "metadata": {
    "id": "C-VMOSrpilXn"
   },
   "source": [
    "Next, we install MedMNIST and check the version:"
   ]
  },
  {
   "cell_type": "code",
   "execution_count": 2,
   "metadata": {
    "colab": {
     "base_uri": "https://localhost:8080/"
    },
    "collapsed": true,
    "executionInfo": {
     "elapsed": 4208,
     "status": "ok",
     "timestamp": 1745231748721,
     "user": {
      "displayName": "Laura Legat",
      "userId": "08447403520972321571"
     },
     "user_tz": -120
    },
    "id": "o8i4EUDVe-ne",
    "outputId": "d1a08fc5-f031-4c21-9c41-6980d728131a"
   },
   "outputs": [
    {
     "name": "stdout",
     "output_type": "stream",
     "text": [
      "Requirement already satisfied: medmnist in /system/apps/studentenv/legat/xAImed/lib/python3.10/site-packages (3.0.2)\n",
      "Requirement already satisfied: numpy in /system/apps/studentenv/legat/xAImed/lib/python3.10/site-packages (from medmnist) (1.26.4)\n",
      "Requirement already satisfied: pandas in /system/apps/studentenv/legat/xAImed/lib/python3.10/site-packages (from medmnist) (2.2.3)\n",
      "Requirement already satisfied: scikit-learn in /system/apps/studentenv/legat/xAImed/lib/python3.10/site-packages (from medmnist) (1.6.1)\n",
      "Requirement already satisfied: scikit-image in /system/apps/studentenv/legat/xAImed/lib/python3.10/site-packages (from medmnist) (0.25.2)\n",
      "Requirement already satisfied: tqdm in /system/apps/studentenv/legat/xAImed/lib/python3.10/site-packages (from medmnist) (4.67.1)\n",
      "Requirement already satisfied: Pillow in /system/apps/studentenv/legat/xAImed/lib/python3.10/site-packages (from medmnist) (11.1.0)\n",
      "Requirement already satisfied: fire in /system/apps/studentenv/legat/xAImed/lib/python3.10/site-packages (from medmnist) (0.7.0)\n",
      "Requirement already satisfied: torch in /system/apps/studentenv/legat/xAImed/lib/python3.10/site-packages (from medmnist) (2.5.1)\n",
      "Requirement already satisfied: torchvision in /system/apps/studentenv/legat/xAImed/lib/python3.10/site-packages (from medmnist) (0.20.1)\n",
      "Requirement already satisfied: termcolor in /system/apps/studentenv/legat/xAImed/lib/python3.10/site-packages (from fire->medmnist) (3.0.1)\n",
      "Requirement already satisfied: python-dateutil>=2.8.2 in /system/apps/studentenv/legat/xAImed/lib/python3.10/site-packages (from pandas->medmnist) (2.9.0.post0)\n",
      "Requirement already satisfied: pytz>=2020.1 in /system/apps/studentenv/legat/xAImed/lib/python3.10/site-packages (from pandas->medmnist) (2025.2)\n",
      "Requirement already satisfied: tzdata>=2022.7 in /system/apps/studentenv/legat/xAImed/lib/python3.10/site-packages (from pandas->medmnist) (2025.2)\n",
      "Requirement already satisfied: scipy>=1.11.4 in /system/apps/studentenv/legat/xAImed/lib/python3.10/site-packages (from scikit-image->medmnist) (1.15.2)\n",
      "Requirement already satisfied: networkx>=3.0 in /system/apps/studentenv/legat/xAImed/lib/python3.10/site-packages (from scikit-image->medmnist) (3.4.2)\n",
      "Requirement already satisfied: imageio!=2.35.0,>=2.33 in /system/apps/studentenv/legat/xAImed/lib/python3.10/site-packages (from scikit-image->medmnist) (2.37.0)\n",
      "Requirement already satisfied: tifffile>=2022.8.12 in /system/apps/studentenv/legat/xAImed/lib/python3.10/site-packages (from scikit-image->medmnist) (2025.3.30)\n",
      "Requirement already satisfied: packaging>=21 in /system/apps/studentenv/legat/xAImed/lib/python3.10/site-packages (from scikit-image->medmnist) (25.0)\n",
      "Requirement already satisfied: lazy-loader>=0.4 in /system/apps/studentenv/legat/xAImed/lib/python3.10/site-packages (from scikit-image->medmnist) (0.4)\n",
      "Requirement already satisfied: joblib>=1.2.0 in /system/apps/studentenv/legat/xAImed/lib/python3.10/site-packages (from scikit-learn->medmnist) (1.4.2)\n",
      "Requirement already satisfied: threadpoolctl>=3.1.0 in /system/apps/studentenv/legat/xAImed/lib/python3.10/site-packages (from scikit-learn->medmnist) (3.6.0)\n",
      "Requirement already satisfied: filelock in /system/apps/studentenv/legat/xAImed/lib/python3.10/site-packages (from torch->medmnist) (3.18.0)\n",
      "Requirement already satisfied: typing-extensions>=4.8.0 in /system/apps/studentenv/legat/xAImed/lib/python3.10/site-packages (from torch->medmnist) (4.13.2)\n",
      "Requirement already satisfied: jinja2 in /system/apps/studentenv/legat/xAImed/lib/python3.10/site-packages (from torch->medmnist) (3.1.6)\n",
      "Requirement already satisfied: fsspec in /system/apps/studentenv/legat/xAImed/lib/python3.10/site-packages (from torch->medmnist) (2025.3.2)\n",
      "Requirement already satisfied: sympy==1.13.1 in /system/apps/studentenv/legat/xAImed/lib/python3.10/site-packages (from torch->medmnist) (1.13.1)\n",
      "Requirement already satisfied: mpmath<1.4,>=1.1.0 in /system/apps/studentenv/legat/xAImed/lib/python3.10/site-packages (from sympy==1.13.1->torch->medmnist) (1.3.0)\n",
      "Requirement already satisfied: six>=1.5 in /system/apps/studentenv/legat/xAImed/lib/python3.10/site-packages (from python-dateutil>=2.8.2->pandas->medmnist) (1.17.0)\n",
      "Requirement already satisfied: MarkupSafe>=2.0 in /system/apps/studentenv/legat/xAImed/lib/python3.10/site-packages (from jinja2->torch->medmnist) (3.0.2)\n"
     ]
    }
   ],
   "source": [
    "!pip install medmnist\n",
    "import medmnist"
   ]
  },
  {
   "cell_type": "code",
   "execution_count": 3,
   "metadata": {
    "colab": {
     "base_uri": "https://localhost:8080/"
    },
    "executionInfo": {
     "elapsed": 28,
     "status": "ok",
     "timestamp": 1745231748746,
     "user": {
      "displayName": "Laura Legat",
      "userId": "08447403520972321571"
     },
     "user_tz": -120
    },
    "id": "k7zmHPgCj434",
    "outputId": "59a5554d-7d64-48a6-e1f8-0614778d8e3d"
   },
   "outputs": [
    {
     "name": "stdout",
     "output_type": "stream",
     "text": [
      "3.0.2\n"
     ]
    }
   ],
   "source": [
    "print(medmnist.__version__)"
   ]
  },
  {
   "cell_type": "markdown",
   "metadata": {
    "id": "OGreFfgQjIoH"
   },
   "source": [
    "Finally, we import the DermaMNIST subset such that we can work with it:"
   ]
  },
  {
   "cell_type": "code",
   "execution_count": 4,
   "metadata": {
    "executionInfo": {
     "elapsed": 5,
     "status": "ok",
     "timestamp": 1745231748754,
     "user": {
      "displayName": "Laura Legat",
      "userId": "08447403520972321571"
     },
     "user_tz": -120
    },
    "id": "TnwamYSGjL0X"
   },
   "outputs": [],
   "source": [
    "from medmnist import DermaMNIST, Evaluator, INFO"
   ]
  },
  {
   "cell_type": "markdown",
   "metadata": {
    "id": "-QqC9XydQJP6"
   },
   "source": [
    "Looking at the `INFO` dictionary gives us useful information about the dataset in general. This is true for all MedMNIST subsets."
   ]
  },
  {
   "cell_type": "code",
   "execution_count": 5,
   "metadata": {
    "colab": {
     "base_uri": "https://localhost:8080/"
    },
    "executionInfo": {
     "elapsed": 60,
     "status": "ok",
     "timestamp": 1745231748818,
     "user": {
      "displayName": "Laura Legat",
      "userId": "08447403520972321571"
     },
     "user_tz": -120
    },
    "id": "_NEI4nbnQIdg",
    "outputId": "d4bb6ddb-ec1d-42d2-f35e-8aecc0a4364c"
   },
   "outputs": [
    {
     "data": {
      "text/plain": [
       "{'python_class': 'DermaMNIST',\n",
       " 'description': 'The DermaMNIST is based on the HAM10000, a large collection of multi-source dermatoscopic images of common pigmented skin lesions. The dataset consists of 10,015 dermatoscopic images categorized as 7 different diseases, formulized as a multi-class classification task. We split the images into training, validation and test set with a ratio of 7:1:2. The source images of 3×600×450 are resized into 3×28×28.',\n",
       " 'url': 'https://zenodo.org/records/10519652/files/dermamnist.npz?download=1',\n",
       " 'MD5': '0744692d530f8e62ec473284d019b0c7',\n",
       " 'url_64': 'https://zenodo.org/records/10519652/files/dermamnist_64.npz?download=1',\n",
       " 'MD5_64': 'b70a2f5635c6199aeaa28c31d7202e1f',\n",
       " 'url_128': 'https://zenodo.org/records/10519652/files/dermamnist_128.npz?download=1',\n",
       " 'MD5_128': '2defd784463fa5243564e855ed717de1',\n",
       " 'url_224': 'https://zenodo.org/records/10519652/files/dermamnist_224.npz?download=1',\n",
       " 'MD5_224': '8974907d8e169bef5f5b96bc506ae45d',\n",
       " 'task': 'multi-class',\n",
       " 'label': {'0': 'actinic keratoses and intraepithelial carcinoma',\n",
       "  '1': 'basal cell carcinoma',\n",
       "  '2': 'benign keratosis-like lesions',\n",
       "  '3': 'dermatofibroma',\n",
       "  '4': 'melanoma',\n",
       "  '5': 'melanocytic nevi',\n",
       "  '6': 'vascular lesions'},\n",
       " 'n_channels': 3,\n",
       " 'n_samples': {'train': 7007, 'val': 1003, 'test': 2005},\n",
       " 'license': 'CC BY-NC 4.0'}"
      ]
     },
     "execution_count": 5,
     "metadata": {},
     "output_type": "execute_result"
    }
   ],
   "source": [
    "INFO['dermamnist']"
   ]
  },
  {
   "cell_type": "markdown",
   "metadata": {
    "id": "Hf3-fTjpQWFe"
   },
   "source": [
    "We can also observe the unique skin lesion labels as well as the number of channels (3 for RGB):"
   ]
  },
  {
   "cell_type": "code",
   "execution_count": 6,
   "metadata": {
    "colab": {
     "base_uri": "https://localhost:8080/"
    },
    "executionInfo": {
     "elapsed": 24,
     "status": "ok",
     "timestamp": 1745231748848,
     "user": {
      "displayName": "Laura Legat",
      "userId": "08447403520972321571"
     },
     "user_tz": -120
    },
    "id": "2BDPpHZUQcBi",
    "outputId": "602416c1-3c29-415b-9f96-a508d90edfca"
   },
   "outputs": [
    {
     "name": "stdout",
     "output_type": "stream",
     "text": [
      "Labels:\n"
     ]
    },
    {
     "data": {
      "text/plain": [
       "{'0': 'actinic keratoses and intraepithelial carcinoma',\n",
       " '1': 'basal cell carcinoma',\n",
       " '2': 'benign keratosis-like lesions',\n",
       " '3': 'dermatofibroma',\n",
       " '4': 'melanoma',\n",
       " '5': 'melanocytic nevi',\n",
       " '6': 'vascular lesions'}"
      ]
     },
     "execution_count": 6,
     "metadata": {},
     "output_type": "execute_result"
    }
   ],
   "source": [
    "print('Labels:')\n",
    "INFO['dermamnist']['label']"
   ]
  },
  {
   "cell_type": "code",
   "execution_count": 7,
   "metadata": {
    "colab": {
     "base_uri": "https://localhost:8080/"
    },
    "executionInfo": {
     "elapsed": 8,
     "status": "ok",
     "timestamp": 1745231748888,
     "user": {
      "displayName": "Laura Legat",
      "userId": "08447403520972321571"
     },
     "user_tz": -120
    },
    "id": "JWeH8G7yQvUU",
    "outputId": "a56cdb2b-b96b-400d-edea-1124f1c2fab4"
   },
   "outputs": [
    {
     "name": "stdout",
     "output_type": "stream",
     "text": [
      "Channels: 3\n"
     ]
    }
   ],
   "source": [
    "print('Channels:', INFO['dermamnist']['n_channels'])"
   ]
  },
  {
   "cell_type": "markdown",
   "metadata": {
    "id": "hHVPPid0H4ld"
   },
   "source": [
    "Lastly for the setup, we specify our device (cpu or gpu) that we will train our model on:"
   ]
  },
  {
   "cell_type": "code",
   "execution_count": 8,
   "metadata": {
    "colab": {
     "base_uri": "https://localhost:8080/"
    },
    "executionInfo": {
     "elapsed": 6,
     "status": "ok",
     "timestamp": 1745231748895,
     "user": {
      "displayName": "Laura Legat",
      "userId": "08447403520972321571"
     },
     "user_tz": -120
    },
    "id": "3U60kgBVH727",
    "outputId": "b8573992-0322-4e54-b57e-848592107575"
   },
   "outputs": [
    {
     "name": "stdout",
     "output_type": "stream",
     "text": [
      "Device: cuda\n"
     ]
    }
   ],
   "source": [
    "device = torch.device(\"cuda\" if torch.cuda.is_available() else \"cpu\")\n",
    "print(\"Device: \" + str(device))"
   ]
  },
  {
   "cell_type": "markdown",
   "metadata": {
    "id": "3PDko4WSr1v8"
   },
   "source": [
    "## DermaMNIST pre-processing"
   ]
  },
  {
   "cell_type": "markdown",
   "metadata": {
    "id": "HMjaY5igr5Dy"
   },
   "source": [
    "First, the data is downloaded and split into train-val-test sets in a 70-10-20% fashion. So-called image/data transforms are applied to augment the data. Data augmentation is useful for avoiding overfitting and introducing more robustness and invariance against changes in the input. The subsets are packaged into their respective `DataLoader`'s for easier data bacthing during training and evaluation."
   ]
  },
  {
   "cell_type": "code",
   "execution_count": 9,
   "metadata": {
    "executionInfo": {
     "elapsed": 13,
     "status": "ok",
     "timestamp": 1745231748907,
     "user": {
      "displayName": "Laura Legat",
      "userId": "08447403520972321571"
     },
     "user_tz": -120
    },
    "id": "U1ZmGmrUKpkh"
   },
   "outputs": [],
   "source": [
    "transforms = v2.Compose([\n",
    "    v2.ToImage(),\n",
    "    v2.ToDtype(torch.float32, scale=True),\n",
    "    v2.Normalize(mean=[.5], std=[.5])\n",
    "])"
   ]
  },
  {
   "cell_type": "code",
   "execution_count": 10,
   "metadata": {
    "executionInfo": {
     "elapsed": 207,
     "status": "ok",
     "timestamp": 1745231749116,
     "user": {
      "displayName": "Laura Legat",
      "userId": "08447403520972321571"
     },
     "user_tz": -120
    },
    "id": "Uxp4BVVYL9Ps"
   },
   "outputs": [
    {
     "name": "stdout",
     "output_type": "stream",
     "text": [
      "Using downloaded and verified file: /system/user/legat/.medmnist/dermamnist.npz\n",
      "Using downloaded and verified file: /system/user/legat/.medmnist/dermamnist.npz\n"
     ]
    }
   ],
   "source": [
    "# download, split and package into DataLoaders\n",
    "train_data = DermaMNIST(split='train', transform=transforms, download=True)\n",
    "test_data = DermaMNIST(split='test', transform=transforms, download=True)\n",
    "\n",
    "#define arguments for the dataloaders\n",
    "BATCH_SIZE=128\n",
    "\n",
    "train_loader = DataLoader(dataset=train_data, batch_size=BATCH_SIZE, shuffle=True)\n",
    "test_loader = DataLoader(dataset=test_data, batch_size=BATCH_SIZE)"
   ]
  },
  {
   "cell_type": "markdown",
   "metadata": {
    "id": "QdvUoJXoD7NA"
   },
   "source": [
    "We store the 7 possible labels in a dictionary variable for further use:"
   ]
  },
  {
   "cell_type": "code",
   "execution_count": 11,
   "metadata": {
    "colab": {
     "base_uri": "https://localhost:8080/"
    },
    "executionInfo": {
     "elapsed": 37,
     "status": "ok",
     "timestamp": 1745231749182,
     "user": {
      "displayName": "Laura Legat",
      "userId": "08447403520972321571"
     },
     "user_tz": -120
    },
    "id": "UUhRwBUzO_dc",
    "outputId": "ee37793e-5434-4b39-a76d-8b3ad48accf2"
   },
   "outputs": [
    {
     "data": {
      "text/plain": [
       "{'0': 'actinic keratoses and intraepithelial carcinoma',\n",
       " '1': 'basal cell carcinoma',\n",
       " '2': 'benign keratosis-like lesions',\n",
       " '3': 'dermatofibroma',\n",
       " '4': 'melanoma',\n",
       " '5': 'melanocytic nevi',\n",
       " '6': 'vascular lesions'}"
      ]
     },
     "execution_count": 11,
     "metadata": {},
     "output_type": "execute_result"
    }
   ],
   "source": [
    "# inspect unique labels of dataset\n",
    "class_dict = INFO['dermamnist']['label']\n",
    "class_dict"
   ]
  },
  {
   "cell_type": "markdown",
   "metadata": {
    "id": "K2QDOOQl8DZC"
   },
   "source": [
    "Finally, let's visualize a subset of our DermaMNIST to get a better understanding."
   ]
  },
  {
   "cell_type": "code",
   "execution_count": 12,
   "metadata": {
    "colab": {
     "base_uri": "https://localhost:8080/",
     "height": 297
    },
    "executionInfo": {
     "elapsed": 1229,
     "status": "ok",
     "timestamp": 1745231750414,
     "user": {
      "displayName": "Laura Legat",
      "userId": "08447403520972321571"
     },
     "user_tz": -120
    },
    "id": "FcpTU7q68M1V",
    "outputId": "3a813da3-b06f-449f-f36d-f7016fe5bc0e"
   },
   "outputs": [
    {
     "data": {
      "image/jpeg": "[encoded data removed]",
      "image/png": "[encoded data removed]",
      "text/plain": [
       "<PIL.Image.Image image mode=RGB size=280x280>"
      ]
     },
     "execution_count": 12,
     "metadata": {},
     "output_type": "execute_result"
    }
   ],
   "source": [
    "train_data.montage(length=10)"
   ]
  },
  {
   "cell_type": "markdown",
   "metadata": {
    "id": "4l_qNwTEkUhN"
   },
   "source": [
    "## Image Classification"
   ]
  },
  {
   "cell_type": "markdown",
   "metadata": {
    "id": "annPWDbu8hO_"
   },
   "source": [
    "Similarly to the last notebooks, we follow the structure of creating a Python class for our CNN. You'll notice that the notation here looks slightly different from the previous notebooks, and we also introduce some new concepts here. First off, `nn.Sequential` is a container module provided by PyTorch that lets you stack different modules and layers in a clean and readable way, which is especially useful when your model flows *sequentially* from one layer to the next. `nn.Sequential` takes layers and operations in the order they should be executed, separated by commas, and feeds the output of one component as input to the next.\n",
    "\n",
    "We also encounter some new concepts:\n",
    "\n",
    "*   **Convolutional layers:** This is the main building block of a CNN. It slides a filter/kernel/\"window\" of a certain height and width over the input image and extracts features (e.g. corners, edges etc) from it that way. These filters are learnable and slide across the input with a certain stride, performing element-wise multiplication and summation afterwards. The resulting output is called a **feature map**\n",
    "*   **Batch Normalization:** Normalizes the activations of a layer within the current batch during training. This helps against distribution shift and fosters stable learning\n",
    "*   **Max Pooling:** This operation reduces the size of the input or feature map by taking the maximum value within a small (e.g. 2x2) window. This helps to preserve the most prominent features no matter where exactly they occur, while also downsampling the input/feature map\n",
    "*   **Dropout:** Randomly sets certain neurons to zero during training in order to prevent overfitting and improve the model's ability to generalize by teaching it not to depend on certain singular neurons too much"
   ]
  },
  {
   "cell_type": "code",
   "execution_count": 13,
   "metadata": {
    "colab": {
     "base_uri": "https://localhost:8080/"
    },
    "executionInfo": {
     "elapsed": 33,
     "status": "ok",
     "timestamp": 1745231750445,
     "user": {
      "displayName": "Laura Legat",
      "userId": "08447403520972321571"
     },
     "user_tz": -120
    },
    "id": "EQxn8hVr8nY6",
    "outputId": "3dde5444-9623-4925-a2c6-fdc8a09787c3"
   },
   "outputs": [
    {
     "name": "stdout",
     "output_type": "stream",
     "text": [
      "DermaClf(\n",
      "  (layer1): Sequential(\n",
      "    (0): Conv2d(3, 16, kernel_size=(3, 3), stride=(1, 1))\n",
      "    (1): BatchNorm2d(16, eps=1e-05, momentum=0.1, affine=True, track_running_stats=True)\n",
      "    (2): ReLU()\n",
      "  )\n",
      "  (layer2): Sequential(\n",
      "    (0): Conv2d(16, 32, kernel_size=(3, 3), stride=(1, 1))\n",
      "    (1): BatchNorm2d(32, eps=1e-05, momentum=0.1, affine=True, track_running_stats=True)\n",
      "    (2): ReLU()\n",
      "  )\n",
      "  (layer3): Sequential(\n",
      "    (0): Conv2d(32, 64, kernel_size=(3, 3), stride=(1, 1))\n",
      "    (1): BatchNorm2d(64, eps=1e-05, momentum=0.1, affine=True, track_running_stats=True)\n",
      "    (2): ReLU()\n",
      "  )\n",
      "  (layer4): Sequential(\n",
      "    (0): Conv2d(64, 64, kernel_size=(3, 3), stride=(1, 1))\n",
      "    (1): BatchNorm2d(64, eps=1e-05, momentum=0.1, affine=True, track_running_stats=True)\n",
      "    (2): ReLU()\n",
      "  )\n",
      "  (layer5): Sequential(\n",
      "    (0): Conv2d(64, 64, kernel_size=(3, 3), stride=(1, 1), padding=(1, 1))\n",
      "    (1): BatchNorm2d(64, eps=1e-05, momentum=0.1, affine=True, track_running_stats=True)\n",
      "    (2): ReLU()\n",
      "    (3): MaxPool2d(kernel_size=2, stride=2, padding=0, dilation=1, ceil_mode=False)\n",
      "  )\n",
      "  (fc): Sequential(\n",
      "    (0): Linear(in_features=6400, out_features=512, bias=True)\n",
      "    (1): ReLU()\n",
      "    (2): Dropout(p=0.5, inplace=False)\n",
      "    (3): Linear(in_features=512, out_features=7, bias=True)\n",
      "  )\n",
      ")\n"
     ]
    }
   ],
   "source": [
    "class DermaClf(nn.Module):\n",
    "  def __init__(self, in_channels, num_classes):\n",
    "    super(DermaClf, self).__init__()\n",
    "\n",
    "    # 5 sequential convolutionsl layers\n",
    "    self.layer1 = nn.Sequential(nn.Conv2d(in_channels=in_channels, out_channels=16, kernel_size=3),\n",
    "                                    nn.BatchNorm2d(16), nn.ReLU())\n",
    "\n",
    "    self.layer2 = nn.Sequential(nn.Conv2d(in_channels=16, out_channels=32, kernel_size=3),\n",
    "                                    nn.BatchNorm2d(32), nn.ReLU())\n",
    "\n",
    "    self.layer3 = nn.Sequential(nn.Conv2d(in_channels=32, out_channels=64, kernel_size=3),\n",
    "                                    nn.BatchNorm2d(64), nn.ReLU())\n",
    "\n",
    "    self.layer4 = nn.Sequential(nn.Conv2d(in_channels=64, out_channels=64, kernel_size=3),\n",
    "                                    nn.BatchNorm2d(64), nn.ReLU())\n",
    "\n",
    "    # max pooling layer added\n",
    "    self.layer5 = nn.Sequential(nn.Conv2d(in_channels=64, out_channels=64, kernel_size=3, padding=1),\n",
    "                                    nn.BatchNorm2d(64), nn.ReLU(),\n",
    "                                    nn.MaxPool2d(kernel_size=2, stride=2))\n",
    "    # add two fully connected layers\n",
    "    self.fc = nn.Sequential(nn.Linear(64 * 10 * 10, out_features=512),\n",
    "                                nn.ReLU(),\n",
    "                                nn.Dropout(0.5),\n",
    "                                nn.Linear(in_features=512, out_features=num_classes))\n",
    "\n",
    "  def forward(self, x):\n",
    "    x = self.layer1(x)\n",
    "    x = self.layer2(x)\n",
    "    x = self.layer3(x)\n",
    "    x = self.layer4(x)\n",
    "    x = self.layer5(x)\n",
    "\n",
    "    x = torch.flatten(x, 1)\n",
    "\n",
    "    x = self.fc(x)\n",
    "    return x\n",
    "\n",
    "model = DermaClf(in_channels=3, num_classes=7)\n",
    "print(model)"
   ]
  },
  {
   "cell_type": "markdown",
   "metadata": {
    "id": "QI6Rmc00E8uw"
   },
   "source": [
    "We print our model size, i.e. the total number of parameters. It is always useful to keep track of this, especially when working within hardware constraints:"
   ]
  },
  {
   "cell_type": "code",
   "execution_count": 14,
   "metadata": {
    "colab": {
     "base_uri": "https://localhost:8080/"
    },
    "executionInfo": {
     "elapsed": 20,
     "status": "ok",
     "timestamp": 1745231750494,
     "user": {
      "displayName": "Laura Legat",
      "userId": "08447403520972321571"
     },
     "user_tz": -120
    },
    "id": "BS-Slyd4BHdN",
    "outputId": "1fb4dfdd-108c-450c-a6b4-a173936ab773"
   },
   "outputs": [
    {
     "name": "stdout",
     "output_type": "stream",
     "text": [
      "Numer of parameters:  3378823\n"
     ]
    }
   ],
   "source": [
    "print('Numer of parameters: ', sum([torch.numel(p) for p in model.parameters()]))"
   ]
  },
  {
   "cell_type": "markdown",
   "metadata": {
    "id": "nYt9Hvm3Gauq"
   },
   "source": [
    "Next, we define our training and evaluation loop similar to what we did in past notebooks. This time, we define them encapsulated as functions. This is practical in case you want to start your training loop from any cell."
   ]
  },
  {
   "cell_type": "code",
   "execution_count": 15,
   "metadata": {
    "executionInfo": {
     "elapsed": 4,
     "status": "ok",
     "timestamp": 1745231750496,
     "user": {
      "displayName": "Laura Legat",
      "userId": "08447403520972321571"
     },
     "user_tz": -120
    },
    "id": "nV2OdQgiGXm6"
   },
   "outputs": [],
   "source": [
    "def train(model, train_loader, optimizer, device, criterion):\n",
    "    model.train()\n",
    "    model = model.to(device)\n",
    "\n",
    "    losses = []\n",
    "    correct = 0\n",
    "    total = 0\n",
    "    for inputs, targets in train_loader:\n",
    "        inputs, targets = inputs.to(device), targets.to(device) # push to gpu\n",
    "\n",
    "        optimizer.zero_grad()\n",
    "        preds = model(inputs)\n",
    "        targets = torch.squeeze(targets).to(device) # remove empty dim\n",
    "\n",
    "        loss = criterion(preds, targets)\n",
    "\n",
    "        losses.append(loss.item())\n",
    "        loss.backward()\n",
    "        optimizer.step()\n",
    "\n",
    "    total += targets.shape[0]\n",
    "    correct += torch.sum(preds.max(1)[1] == targets).item()\n",
    "\n",
    "    return {\n",
    "        'train_acc': f'{np.round(correct / total, 3):.3f}',\n",
    "        'train_loss': f'{np.round(np.mean(losses), 3):.3f}',\n",
    "    }\n",
    "\n",
    "\n",
    "def evaluate(model, test_loader, device, criterion):\n",
    "    model.eval()\n",
    "    model = model.to(device)\n",
    "\n",
    "    losses = []\n",
    "    correct = 0\n",
    "    total = 0\n",
    "    with torch.no_grad():\n",
    "        for inputs, targets in test_loader:\n",
    "            inputs = inputs.to(device)\n",
    "            preds = model(inputs)\n",
    "\n",
    "            targets = torch.squeeze(targets).to(device)\n",
    "            loss = criterion(preds, targets)\n",
    "\n",
    "            losses.append(loss.item())\n",
    "            total += targets.shape[0]\n",
    "            correct += (preds.max(1)[1] == targets).sum().cpu().numpy()\n",
    "\n",
    "        return {\n",
    "            'test_acc': f'{np.round(correct / total, 3):.3f}',\n",
    "            'test_loss': f'{np.round(np.mean(losses), 3):.3f}',\n",
    "        }"
   ]
  },
  {
   "cell_type": "markdown",
   "metadata": {
    "id": "8dDQlXKdI-NB"
   },
   "source": [
    "Next, we define some settings and run our train-eval loop. For multi-class classification problems, we choose the Cross Entropy Loss, as well as the Adam optimizer with a learning rate of 0.0001"
   ]
  },
  {
   "cell_type": "code",
   "execution_count": 16,
   "metadata": {
    "colab": {
     "base_uri": "https://localhost:8080/"
    },
    "executionInfo": {
     "elapsed": 38333,
     "status": "ok",
     "timestamp": 1745231788831,
     "user": {
      "displayName": "Laura Legat",
      "userId": "08447403520972321571"
     },
     "user_tz": -120
    },
    "id": "Q-fLltUiHD4u",
    "outputId": "0fecc4ee-ff4a-4751-cd29-e9dd006cb20e"
   },
   "outputs": [
    {
     "name": "stderr",
     "output_type": "stream",
     "text": [
      " 10%|█         | 1/10 [00:05<00:52,  5.78s/it]"
     ]
    },
    {
     "name": "stdout",
     "output_type": "stream",
     "text": [
      "\n",
      " Epoch 0, Train set stats: {'train_acc': '0.737', 'train_loss': '0.985'}, Test set stats: {'test_acc': '0.704', 'test_loss': '0.826'}\n"
     ]
    },
    {
     "name": "stderr",
     "output_type": "stream",
     "text": [
      " 20%|██        | 2/10 [00:07<00:27,  3.46s/it]"
     ]
    },
    {
     "name": "stdout",
     "output_type": "stream",
     "text": [
      "\n",
      " Epoch 1, Train set stats: {'train_acc': '0.737', 'train_loss': '0.811'}, Test set stats: {'test_acc': '0.716', 'test_loss': '0.775'}\n"
     ]
    },
    {
     "name": "stderr",
     "output_type": "stream",
     "text": [
      " 30%|███       | 3/10 [00:09<00:18,  2.71s/it]"
     ]
    },
    {
     "name": "stdout",
     "output_type": "stream",
     "text": [
      "\n",
      " Epoch 2, Train set stats: {'train_acc': '0.747', 'train_loss': '0.766'}, Test set stats: {'test_acc': '0.722', 'test_loss': '0.751'}\n"
     ]
    },
    {
     "name": "stderr",
     "output_type": "stream",
     "text": [
      " 40%|████      | 4/10 [00:11<00:14,  2.36s/it]"
     ]
    },
    {
     "name": "stdout",
     "output_type": "stream",
     "text": [
      "\n",
      " Epoch 3, Train set stats: {'train_acc': '0.737', 'train_loss': '0.725'}, Test set stats: {'test_acc': '0.728', 'test_loss': '0.740'}\n"
     ]
    },
    {
     "name": "stderr",
     "output_type": "stream",
     "text": [
      " 50%|█████     | 5/10 [00:13<00:10,  2.17s/it]"
     ]
    },
    {
     "name": "stdout",
     "output_type": "stream",
     "text": [
      "\n",
      " Epoch 4, Train set stats: {'train_acc': '0.768', 'train_loss': '0.690'}, Test set stats: {'test_acc': '0.743', 'test_loss': '0.704'}\n"
     ]
    },
    {
     "name": "stderr",
     "output_type": "stream",
     "text": [
      " 60%|██████    | 6/10 [00:14<00:08,  2.05s/it]"
     ]
    },
    {
     "name": "stdout",
     "output_type": "stream",
     "text": [
      "\n",
      " Epoch 5, Train set stats: {'train_acc': '0.695', 'train_loss': '0.661'}, Test set stats: {'test_acc': '0.731', 'test_loss': '0.714'}\n"
     ]
    },
    {
     "name": "stderr",
     "output_type": "stream",
     "text": [
      " 70%|███████   | 7/10 [00:16<00:05,  1.98s/it]"
     ]
    },
    {
     "name": "stdout",
     "output_type": "stream",
     "text": [
      "\n",
      " Epoch 6, Train set stats: {'train_acc': '0.800', 'train_loss': '0.629'}, Test set stats: {'test_acc': '0.745', 'test_loss': '0.707'}\n"
     ]
    },
    {
     "name": "stderr",
     "output_type": "stream",
     "text": [
      " 80%|████████  | 8/10 [00:18<00:03,  1.96s/it]"
     ]
    },
    {
     "name": "stdout",
     "output_type": "stream",
     "text": [
      "\n",
      " Epoch 7, Train set stats: {'train_acc': '0.674', 'train_loss': '0.593'}, Test set stats: {'test_acc': '0.736', 'test_loss': '0.689'}\n"
     ]
    },
    {
     "name": "stderr",
     "output_type": "stream",
     "text": [
      " 90%|█████████ | 9/10 [00:20<00:01,  1.95s/it]"
     ]
    },
    {
     "name": "stdout",
     "output_type": "stream",
     "text": [
      "\n",
      " Epoch 8, Train set stats: {'train_acc': '0.821', 'train_loss': '0.563'}, Test set stats: {'test_acc': '0.746', 'test_loss': '0.674'}\n"
     ]
    },
    {
     "name": "stderr",
     "output_type": "stream",
     "text": [
      "100%|██████████| 10/10 [00:22<00:00,  2.25s/it]"
     ]
    },
    {
     "name": "stdout",
     "output_type": "stream",
     "text": [
      "\n",
      " Epoch 9, Train set stats: {'train_acc': '0.842', 'train_loss': '0.528'}, Test set stats: {'test_acc': '0.741', 'test_loss': '0.688'}\n"
     ]
    },
    {
     "name": "stderr",
     "output_type": "stream",
     "text": [
      "\n"
     ]
    }
   ],
   "source": [
    "n_epochs = 10 # feel free to play around with this value\n",
    "criterion = nn.CrossEntropyLoss() # loss function for multi-class problems\n",
    "optimizer = torch.optim.Adam(model.parameters(), lr=1e-4)\n",
    "\n",
    "for epoch in tqdm(range(n_epochs)):\n",
    "  train_history = train(model=model, train_loader=train_loader, optimizer=optimizer, device=device, criterion=criterion)\n",
    "  eval_history = evaluate(model=model, test_loader=test_loader, device=device, criterion=criterion)\n",
    "\n",
    "  print(f'\\n Epoch {epoch}, Train set stats: {train_history}, Test set stats: {eval_history}')"
   ]
  },
  {
   "cell_type": "markdown",
   "metadata": {
    "id": "P7flbziN8aJw"
   },
   "source": [
    "### Visualizing predictions"
   ]
  },
  {
   "cell_type": "markdown",
   "metadata": {
    "id": "JZodIhJCJOsx"
   },
   "source": [
    "Now that we have a trained model, we can observe how well it predicts skin lesions by looking at an example directly. We choose a random image from the test set, visualize it, as well as feed it to our newly trained CNN and extract the most likely class it predicts the skin lesion to be of.\n",
    "\n",
    "Before we can visualize anything, we need to unnormalize the image first. This step needs to be done because we used `transforms` before, specifically `v2.Normalize(mean=[.5], std=[.5])`, which does the following operation `img - mean / std`. We also need to permute the dimensions in order for `matplotlib` to work."
   ]
  },
  {
   "cell_type": "code",
   "execution_count": 18,
   "metadata": {
    "colab": {
     "base_uri": "https://localhost:8080/",
     "height": 449
    },
    "executionInfo": {
     "elapsed": 86,
     "status": "ok",
     "timestamp": 1745231788950,
     "user": {
      "displayName": "Laura Legat",
      "userId": "08447403520972321571"
     },
     "user_tz": -120
    },
    "id": "ZVeKqBkN8d3Y",
    "outputId": "80171833-560c-4ab4-ae61-53587a11ec47"
   },
   "outputs": [
    {
     "data": {
      "image/png": "[encoded data removed]",
      "text/plain": [
       "<Figure size 640x480 with 1 Axes>"
      ]
     },
     "metadata": {},
     "output_type": "display_data"
    }
   ],
   "source": [
    "# choose a random image from the test dataset\n",
    "rand_idx = np.random.randint(0, len(test_data)-1)\n",
    "img, label = test_data[rand_idx]\n",
    "\n",
    "# unnormalize for visualization - img * std / mean\n",
    "vis_img = (img * 0.5) + 0.5\n",
    "vis_img = vis_img.permute(1,2,0).numpy()\n",
    "\n",
    "# prepare img for model predictions\n",
    "pred_img = img.unsqueeze(0).to(device)\n",
    "\n",
    "# pass img to model and predict\n",
    "model.eval() # evaluation mode for inference\n",
    "model = model.to(device)\n",
    "pred = model(pred_img) # get class probabilities\n",
    "pred_idx = pred.argmax(dim=1).item() # choose most likely class\n",
    "\n",
    "# extract class labels from previously defined class dictionary\n",
    "pred_label = class_dict[str(pred_idx)]\n",
    "true_label = class_dict[str(label.item())]\n",
    "\n",
    "plt.imshow(vis_img)\n",
    "plt.title(f\"True label: {true_label}\\nPredicted label: {pred_label}\")\n",
    "plt.axis(\"off\")\n",
    "plt.show()"
   ]
  },
  {
   "cell_type": "markdown",
   "metadata": {
    "id": "MbID3hyW06y5"
   },
   "source": [
    "### Saving the model"
   ]
  },
  {
   "cell_type": "markdown",
   "metadata": {
    "id": "QCkUyoUg2VIK"
   },
   "source": [
    "If we want to re-use our model for predicting outside of the current notebook, we can save it to our device. In order to save some storage, we only store the so-called `state_dict` of our model.\n",
    "\n",
    "**What is a `state_dict`?**\n",
    "\n",
    "In PyTorch, the learnable parameters (i.e. weights and biases) of a model are part of the model's total parameters which we have been printing often after model creation. A `state_dict` is simply a Python dictionary object that maps each layer to its parameter tensor. Note that only layers with learnable parameters (convolutional layers, linear layers, etc.) and registered buffers (batchnorm's running_mean) have entries in the model's state_dict. Optimizer objects (torch.optim) also have a state_dict, which contains information about the optimizer's state, as well as the hyperparameters used. The optimizer's `state_dict` should be saved separately in case you want to continue training later. Since we plan on only use it in inference/prediction mode, saving only the model's `state_dict` is enough."
   ]
  },
  {
   "cell_type": "code",
   "execution_count": 19,
   "metadata": {
    "executionInfo": {
     "elapsed": 33,
     "status": "ok",
     "timestamp": 1745231788986,
     "user": {
      "displayName": "Laura Legat",
      "userId": "08447403520972321571"
     },
     "user_tz": -120
    },
    "id": "_LcUt9Vp09v6"
   },
   "outputs": [],
   "source": [
    "model.eval() # imporant if model should later be used for inference\n",
    "model.cpu()  # move model to cpu to load it anywhere\n",
    "torch.save(model.state_dict(), '../output/dermamnist_clf.pt')"
   ]
  }
 ],
 "metadata": {
  "accelerator": "GPU",
  "colab": {
   "authorship_tag": "ABX9TyNuHcWnn0APAXUJayXUmDuQ",
   "gpuType": "T4",
   "provenance": []
  },
  "kernelspec": {
   "display_name": "xAImed",
   "language": "python",
   "name": "python3"
  },
  "language_info": {
   "codemirror_mode": {
    "name": "ipython",
    "version": 3
   },
   "file_extension": ".py",
   "mimetype": "text/x-python",
   "name": "python",
   "nbconvert_exporter": "python",
   "pygments_lexer": "ipython3",
   "version": "3.10.17"
  }
 },
 "nbformat": 4,
 "nbformat_minor": 0
}
